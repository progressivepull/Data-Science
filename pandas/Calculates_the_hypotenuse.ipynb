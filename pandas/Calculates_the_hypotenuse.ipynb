{
  "metadata": {
    "kernelspec": {
      "name": "python",
      "display_name": "Python (Pyodide)",
      "language": "python"
    },
    "language_info": {
      "codemirror_mode": {
        "name": "python",
        "version": 3
      },
      "file_extension": ".py",
      "mimetype": "text/x-python",
      "name": "python",
      "nbconvert_exporter": "python",
      "pygments_lexer": "ipython3",
      "version": "3.8"
    }
  },
  "nbformat_minor": 5,
  "nbformat": 4,
  "cells": [
    {
      "id": "9ef41c08-72c7-435c-ae37-b6bdba535521",
      "cell_type": "code",
      "source": "import numpy as np",
      "metadata": {
        "trusted": true
      },
      "outputs": [],
      "execution_count": 2
    },
    {
      "id": "4b63772e-9ebd-4f96-bc55-6efce53cd81b",
      "cell_type": "markdown",
      "source": "# Square",
      "metadata": {}
    },
    {
      "id": "77b51103-9e0e-4d95-99df-374de6557774",
      "cell_type": "markdown",
      "source": "Here is how to square elements of a NumPy array. The **numpy.square()** function returns a new array with each element being the square of the corresponding element in the input array.",
      "metadata": {}
    },
    {
      "id": "272810d7-81a5-494b-9981-578270f5a94d",
      "cell_type": "code",
      "source": "# Create a NumPy array\narr = np.array([1, 2, 3, 4, 5])\n\n# Calculate the square of each element\nsquared_arr = np.square(arr)\n\n# Print the result\nprint(squared_arr)  # Output: [ 1  4  9 16 25]",
      "metadata": {
        "trusted": true
      },
      "outputs": [
        {
          "name": "stdout",
          "output_type": "stream",
          "text": "[ 1  4  9 16 25]\n"
        }
      ],
      "execution_count": 4
    },
    {
      "id": "ef710452-0d0f-48c9-b7e3-8c63710eec5c",
      "cell_type": "markdown",
      "source": "# Square Root",
      "metadata": {}
    },
    {
      "id": "22c94377-8501-4550-ab3c-205ef83197e3",
      "cell_type": "markdown",
      "source": "**numpy.sqrt()** in Python is a function from the NumPy library used to compute the square root of each element in an array or a single number. It returns a new array of the same shape with the square roots of the input values. The function handles both positive and negative numbers, returning NaN for negative inputs when working with real numbers.",
      "metadata": {}
    },
    {
      "id": "df31c551-82ef-4c22-89d5-83efed4599f2",
      "cell_type": "code",
      "source": "a = np.array([1, 4, 9, 16, 25])\nb = np.sqrt(a)\nprint(b)",
      "metadata": {
        "trusted": true
      },
      "outputs": [
        {
          "name": "stdout",
          "output_type": "stream",
          "text": "[1. 2. 3. 4. 5.]\n"
        }
      ],
      "execution_count": 5
    },
    {
      "id": "d9e3f8cb-5d7e-46c4-b8ae-fd10fcf5554f",
      "cell_type": "markdown",
      "source": "# Pythagorean Theorem \n[Pythagorean Theorem Calculator](https://www.calculatorsoup.com/calculators/geometry-plane/pythagorean-theorem.php)",
      "metadata": {}
    },
    {
      "id": "f815c864-ae3e-4060-9389-c9f635dd6d0b",
      "cell_type": "markdown",
      "source": "$a^2 + b^2 = c^2$",
      "metadata": {}
    },
    {
      "id": "af87a0e7-6ceb-42ab-acfc-d6f5b2ef1a11",
      "cell_type": "code",
      "source": "np.sqrt(np.square(2)+ np.square(3)) ",
      "metadata": {
        "trusted": true
      },
      "outputs": [
        {
          "execution_count": 6,
          "output_type": "execute_result",
          "data": {
            "text/plain": "np.float64(3.605551275463989)"
          },
          "metadata": {}
        }
      ],
      "execution_count": 6
    },
    {
      "id": "3724191a-e552-45f8-b445-8f52d630bcbb",
      "cell_type": "markdown",
      "source": "OR",
      "metadata": {}
    },
    {
      "id": "4a7d837c-36d0-46c7-bc6b-04463d49ffc1",
      "cell_type": "code",
      "source": "a = np.array([2])\nb = np.array([3])\n\nresult = np.hypot(a, b)\n\nresult",
      "metadata": {
        "trusted": true
      },
      "outputs": [
        {
          "execution_count": 7,
          "output_type": "execute_result",
          "data": {
            "text/plain": "array([3.60555128])"
          },
          "metadata": {}
        }
      ],
      "execution_count": 7
    }
  ]
}