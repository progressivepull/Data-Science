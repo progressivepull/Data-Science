{
  "metadata": {
    "kernelspec": {
      "name": "python",
      "display_name": "Python (Pyodide)",
      "language": "python"
    },
    "language_info": {
      "codemirror_mode": {
        "name": "python",
        "version": 3
      },
      "file_extension": ".py",
      "mimetype": "text/x-python",
      "name": "python",
      "nbconvert_exporter": "python",
      "pygments_lexer": "ipython3",
      "version": "3.8"
    }
  },
  "nbformat_minor": 5,
  "nbformat": 4,
  "cells": [
    {
      "id": "6347eb2e-6fdd-4205-b568-756da90f7ae0",
      "cell_type": "markdown",
      "source": "# Pandas Series",
      "metadata": {}
    },
    {
      "id": "af710373-77b8-482a-b619-e54d3ec62432",
      "cell_type": "markdown",
      "source": "A NumPy series, in the context of data analysis with Python, commonly refers to a one-dimensional array with the capability of holding data of any type. It is similar to a column in a spreadsheet or a SQL table. However, the term \"NumPy series\" is not standard. Instead, the correct terminology is Pandas Series, which is built upon NumPy arrays.\n\n**Pandas Series provides enhanced functionality compared to NumPy arrays**, such as labeled indexing, automatic data alignment, and handling of missing values. It is a fundamental data structure in the Pandas library, widely used for data manipulation and analysis.",
      "metadata": {}
    },
    {
      "id": "d112b89b-9b40-49e6-9911-ffbd0f265803",
      "cell_type": "code",
      "source": "import pandas as pd\nimport numpy as np",
      "metadata": {
        "trusted": true
      },
      "outputs": [],
      "execution_count": 3
    },
    {
      "id": "88004503-d6d4-4fd5-9970-585ffe8672b5",
      "cell_type": "code",
      "source": "# Creating a Pandas Series from a NumPy array\nnumpy_array = np.array([10, 20, 30, 40, 50])\npandas_series = pd.Series(numpy_array)\n\nprint(pandas_series)",
      "metadata": {
        "trusted": true
      },
      "outputs": [
        {
          "name": "stdout",
          "output_type": "stream",
          "text": "0    10\n1    20\n2    30\n3    40\n4    50\ndtype: int32\n"
        }
      ],
      "execution_count": 4
    },
    {
      "id": "d07db3d6-db1f-49e4-b577-75554b3c8a65",
      "cell_type": "code",
      "source": "# Creating a Pandas Series with custom index\npandas_series_custom_index = pd.Series(numpy_array, index=['a', 'b', 'c', 'd', 'e'])\n\nprint(pandas_series_custom_index)\n# Output:\n# a    10\n# b    20\n# c    30\n# d    40\n# e    50\n# dtype: int64",
      "metadata": {
        "trusted": true
      },
      "outputs": [
        {
          "name": "stdout",
          "output_type": "stream",
          "text": "a    10\nb    20\nc    30\nd    40\ne    50\ndtype: int32\n"
        }
      ],
      "execution_count": 2
    },
    {
      "id": "59737756-2a49-4d9a-9e65-b59222300241",
      "cell_type": "code",
      "source": "",
      "metadata": {
        "trusted": true
      },
      "outputs": [],
      "execution_count": null
    }
  ]
}