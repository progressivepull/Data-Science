{
  "metadata": {
    "kernelspec": {
      "name": "python",
      "display_name": "Python (Pyodide)",
      "language": "python"
    },
    "language_info": {
      "codemirror_mode": {
        "name": "python",
        "version": 3
      },
      "file_extension": ".py",
      "mimetype": "text/x-python",
      "name": "python",
      "nbconvert_exporter": "python",
      "pygments_lexer": "ipython3",
      "version": "3.8"
    }
  },
  "nbformat_minor": 5,
  "nbformat": 4,
  "cells": [
    {
      "id": "5234c1e1-208a-49b0-bc13-34c871b45c3d",
      "cell_type": "markdown",
      "source": "# 03/04 Access rows and columns",
      "metadata": {}
    },
    {
      "id": "c26aca80-266b-4605-9f5c-46742ebbc1d9",
      "cell_type": "code",
      "source": "import pandas as pd",
      "metadata": {
        "trusted": true
      },
      "outputs": [],
      "execution_count": 1
    },
    {
      "id": "5ea3ef05-c271-43e4-b40a-753be3254c9c",
      "cell_type": "markdown",
      "source": "Let's access some data. So first we'll load our dataframe. ",
      "metadata": {}
    },
    {
      "id": "ef0e7f01-71c2-4979-9e1c-3d022d8b258a",
      "cell_type": "code",
      "source": "csv_file = 'track.csv'\ndf = pd.read_csv(csv_file, parse_dates=['time'])",
      "metadata": {
        "trusted": true
      },
      "outputs": [],
      "execution_count": 2
    },
    {
      "id": "50392e53-85de-469f-88d9-2c94a2953665",
      "cell_type": "markdown",
      "source": "To get a column, you can use the **square bracket and the name of the column, so df \"lat\" .** I'm getting the whole latitude column. ",
      "metadata": {}
    },
    {
      "id": "85a3ec31-2ba6-4696-bd7c-db89ef081bc6",
      "cell_type": "code",
      "source": "df['lat']",
      "metadata": {
        "trusted": true
      },
      "outputs": [
        {
          "execution_count": 3,
          "output_type": "execute_result",
          "data": {
            "text/plain": "0      32.519585\n1      32.519606\n2      32.519612\n3      32.519654\n4      32.519689\n         ...    \n735    32.517020\n736    32.517035\n737    32.517087\n738    32.517098\n739    32.517142\nName: lat, Length: 740, dtype: float64"
          },
          "metadata": {}
        }
      ],
      "execution_count": 3
    },
    {
      "id": "58486c03-44d8-4914-ba77-fdf58b37dbdc",
      "cell_type": "markdown",
      "source": "You can also use df.lat like an attribute access, but **I don't recommend using the dot notation** in some cases column names have spaces in them and then you can't use the documentation. Anyway, so **getting the habit of using square brackets, which always.** ",
      "metadata": {}
    },
    {
      "id": "b53d71be-3f22-40d6-8457-4841fa4acf91",
      "cell_type": "code",
      "source": "df.lat # Don't do this!",
      "metadata": {
        "trusted": true
      },
      "outputs": [
        {
          "execution_count": 4,
          "output_type": "execute_result",
          "data": {
            "text/plain": "0      32.519585\n1      32.519606\n2      32.519612\n3      32.519654\n4      32.519689\n         ...    \n735    32.517020\n736    32.517035\n737    32.517087\n738    32.517098\n739    32.517142\nName: lat, Length: 740, dtype: float64"
          },
          "metadata": {}
        }
      ],
      "execution_count": 4
    },
    {
      "id": "588423dc-2e57-4628-a98c-bc6b60d5a187",
      "cell_type": "markdown",
      "source": "You can select **more than a single column**, so here I'm passing a list with two column names and I'm going to get back a data frame with two columns. ",
      "metadata": {}
    },
    {
      "id": "98e9eabd-a904-4cf0-a9de-bb82f2bc93fc",
      "cell_type": "code",
      "source": "df[['lat', 'lng']]",
      "metadata": {
        "trusted": true
      },
      "outputs": [
        {
          "execution_count": 5,
          "output_type": "execute_result",
          "data": {
            "text/plain": "           lat        lng\n0    32.519585  35.015021\n1    32.519606  35.014954\n2    32.519612  35.014871\n3    32.519654  35.014824\n4    32.519689  35.014776\n..         ...        ...\n735  32.517020  35.014387\n736  32.517035  35.014355\n737  32.517087  35.014279\n738  32.517098  35.014264\n739  32.517142  35.014212\n\n[740 rows x 2 columns]",
            "text/html": "<div>\n<style scoped>\n    .dataframe tbody tr th:only-of-type {\n        vertical-align: middle;\n    }\n\n    .dataframe tbody tr th {\n        vertical-align: top;\n    }\n\n    .dataframe thead th {\n        text-align: right;\n    }\n</style>\n<table border=\"1\" class=\"dataframe\">\n  <thead>\n    <tr style=\"text-align: right;\">\n      <th></th>\n      <th>lat</th>\n      <th>lng</th>\n    </tr>\n  </thead>\n  <tbody>\n    <tr>\n      <th>0</th>\n      <td>32.519585</td>\n      <td>35.015021</td>\n    </tr>\n    <tr>\n      <th>1</th>\n      <td>32.519606</td>\n      <td>35.014954</td>\n    </tr>\n    <tr>\n      <th>2</th>\n      <td>32.519612</td>\n      <td>35.014871</td>\n    </tr>\n    <tr>\n      <th>3</th>\n      <td>32.519654</td>\n      <td>35.014824</td>\n    </tr>\n    <tr>\n      <th>4</th>\n      <td>32.519689</td>\n      <td>35.014776</td>\n    </tr>\n    <tr>\n      <th>...</th>\n      <td>...</td>\n      <td>...</td>\n    </tr>\n    <tr>\n      <th>735</th>\n      <td>32.517020</td>\n      <td>35.014387</td>\n    </tr>\n    <tr>\n      <th>736</th>\n      <td>32.517035</td>\n      <td>35.014355</td>\n    </tr>\n    <tr>\n      <th>737</th>\n      <td>32.517087</td>\n      <td>35.014279</td>\n    </tr>\n    <tr>\n      <th>738</th>\n      <td>32.517098</td>\n      <td>35.014264</td>\n    </tr>\n    <tr>\n      <th>739</th>\n      <td>32.517142</td>\n      <td>35.014212</td>\n    </tr>\n  </tbody>\n</table>\n<p>740 rows × 2 columns</p>\n</div>"
          },
          "metadata": {}
        }
      ],
      "execution_count": 5
    },
    {
      "id": "7157a261-ec61-40bf-b7e0-85ea803c98f0",
      "cell_type": "markdown",
      "source": "If you want a specific value, you can first select the column and then the row. **So selecting the latitude column and then the first value**. Remember that Python is 0. Based and not one based. The first item is at 0 location. ",
      "metadata": {}
    },
    {
      "id": "95a51312-fe92-4852-b6fa-3d54bf9bdd0f",
      "cell_type": "code",
      "source": "df['lat'][0]",
      "metadata": {
        "trusted": true
      },
      "outputs": [
        {
          "execution_count": 6,
          "output_type": "execute_result",
          "data": {
            "text/plain": "np.float64(32.519585)"
          },
          "metadata": {}
        }
      ],
      "execution_count": 6
    },
    {
      "id": "0695e389-24bc-4cfa-b2e0-0157d733a543",
      "cell_type": "markdown",
      "source": "If you want an **entire row you can use the dot loc access** so dot loc and now we get the row. ",
      "metadata": {}
    },
    {
      "id": "7ac87e7c-dfa6-4382-b794-d7179150a7d0",
      "cell_type": "code",
      "source": "df.loc[0]",
      "metadata": {
        "trusted": true
      },
      "outputs": [
        {
          "execution_count": 7,
          "output_type": "execute_result",
          "data": {
            "text/plain": "time      2015-08-20 03:48:07.235000\nlat                        32.519585\nlng                        35.015021\nheight                    136.199997\nName: 0, dtype: object"
          },
          "metadata": {}
        }
      ],
      "execution_count": 7
    },
    {
      "id": "9baaaf0b-a677-4e35-88f6-f42787a2c61f",
      "cell_type": "markdown",
      "source": "So we see the time, latitude, longitude and height look and also work with **slices as well**. So from 2 to. 7 unlike slicing in Python, which are half open, the dot lock in pandas slices from the start to the end, including the end. ",
      "metadata": {}
    },
    {
      "id": "010345a8-6e0b-411d-9b4d-04a912a3ab85",
      "cell_type": "code",
      "source": "df.loc[2:7]",
      "metadata": {
        "trusted": true
      },
      "outputs": [
        {
          "execution_count": 8,
          "output_type": "execute_result",
          "data": {
            "text/plain": "                     time        lat        lng      height\n2 2015-08-20 03:48:25.660  32.519612  35.014871  123.000000\n3 2015-08-20 03:48:26.819  32.519654  35.014824  120.500000\n4 2015-08-20 03:48:27.828  32.519689  35.014776  118.900002\n5 2015-08-20 03:48:29.720  32.519691  35.014704  119.900002\n6 2015-08-20 03:48:30.669  32.519734  35.014657  120.900002\n7 2015-08-20 03:48:33.793  32.519719  35.014563  121.699997",
            "text/html": "<div>\n<style scoped>\n    .dataframe tbody tr th:only-of-type {\n        vertical-align: middle;\n    }\n\n    .dataframe tbody tr th {\n        vertical-align: top;\n    }\n\n    .dataframe thead th {\n        text-align: right;\n    }\n</style>\n<table border=\"1\" class=\"dataframe\">\n  <thead>\n    <tr style=\"text-align: right;\">\n      <th></th>\n      <th>time</th>\n      <th>lat</th>\n      <th>lng</th>\n      <th>height</th>\n    </tr>\n  </thead>\n  <tbody>\n    <tr>\n      <th>2</th>\n      <td>2015-08-20 03:48:25.660</td>\n      <td>32.519612</td>\n      <td>35.014871</td>\n      <td>123.000000</td>\n    </tr>\n    <tr>\n      <th>3</th>\n      <td>2015-08-20 03:48:26.819</td>\n      <td>32.519654</td>\n      <td>35.014824</td>\n      <td>120.500000</td>\n    </tr>\n    <tr>\n      <th>4</th>\n      <td>2015-08-20 03:48:27.828</td>\n      <td>32.519689</td>\n      <td>35.014776</td>\n      <td>118.900002</td>\n    </tr>\n    <tr>\n      <th>5</th>\n      <td>2015-08-20 03:48:29.720</td>\n      <td>32.519691</td>\n      <td>35.014704</td>\n      <td>119.900002</td>\n    </tr>\n    <tr>\n      <th>6</th>\n      <td>2015-08-20 03:48:30.669</td>\n      <td>32.519734</td>\n      <td>35.014657</td>\n      <td>120.900002</td>\n    </tr>\n    <tr>\n      <th>7</th>\n      <td>2015-08-20 03:48:33.793</td>\n      <td>32.519719</td>\n      <td>35.014563</td>\n      <td>121.699997</td>\n    </tr>\n  </tbody>\n</table>\n</div>"
          },
          "metadata": {}
        }
      ],
      "execution_count": 8
    },
    {
      "id": "2dfe325f-c8cf-48f8-973c-a25c108d1cc2",
      "cell_type": "markdown",
      "source": "You can also combine slices and column selection, so we're **selecting only the latitude and longitude columns, and then getting from 2 to 7.** This time Panda is going to use the Python style slicing which is 1/2 open range, meaning you get the 1st. Index up to but not including the last one. \n\nI know it's a bit confusing. The best way to make these things sink in is to practice take some data frames, **slice and dice them until you get comfortable** with the results and you'll be just fine. ",
      "metadata": {}
    },
    {
      "id": "5f5d85a1-ec61-46b0-afaa-623fef9f3e72",
      "cell_type": "code",
      "source": "df[['lat', 'lng']][2:7]",
      "metadata": {
        "trusted": true
      },
      "outputs": [
        {
          "execution_count": 9,
          "output_type": "execute_result",
          "data": {
            "text/plain": "         lat        lng\n2  32.519612  35.014871\n3  32.519654  35.014824\n4  32.519689  35.014776\n5  32.519691  35.014704\n6  32.519734  35.014657",
            "text/html": "<div>\n<style scoped>\n    .dataframe tbody tr th:only-of-type {\n        vertical-align: middle;\n    }\n\n    .dataframe tbody tr th {\n        vertical-align: top;\n    }\n\n    .dataframe thead th {\n        text-align: right;\n    }\n</style>\n<table border=\"1\" class=\"dataframe\">\n  <thead>\n    <tr style=\"text-align: right;\">\n      <th></th>\n      <th>lat</th>\n      <th>lng</th>\n    </tr>\n  </thead>\n  <tbody>\n    <tr>\n      <th>2</th>\n      <td>32.519612</td>\n      <td>35.014871</td>\n    </tr>\n    <tr>\n      <th>3</th>\n      <td>32.519654</td>\n      <td>35.014824</td>\n    </tr>\n    <tr>\n      <th>4</th>\n      <td>32.519689</td>\n      <td>35.014776</td>\n    </tr>\n    <tr>\n      <th>5</th>\n      <td>32.519691</td>\n      <td>35.014704</td>\n    </tr>\n    <tr>\n      <th>6</th>\n      <td>32.519734</td>\n      <td>35.014657</td>\n    </tr>\n  </tbody>\n</table>\n</div>"
          },
          "metadata": {}
        }
      ],
      "execution_count": 9
    },
    {
      "id": "364357f7-6617-4f7a-8275-a476167fabb4",
      "cell_type": "markdown",
      "source": "**Every column in pandas is a series.** One of the differences between series and regular Python. **Lists is that they have a labeled axis called an index.** \n\nAll the columns in the data frame show the same index, so we can do **df.index and then run the cell and this is a range index starting from zero until 740 with steps of one.** ",
      "metadata": {}
    },
    {
      "id": "0ab94222-83bf-467d-bf02-79de9633aa0f",
      "cell_type": "code",
      "source": "df.index",
      "metadata": {
        "trusted": true
      },
      "outputs": [
        {
          "execution_count": 10,
          "output_type": "execute_result",
          "data": {
            "text/plain": "RangeIndex(start=0, stop=740, step=1)"
          },
          "metadata": {}
        }
      ],
      "execution_count": 10
    },
    {
      "id": "ade1ce1e-6ec5-4f8b-a57c-b36c70452684",
      "cell_type": "code",
      "source": "import numpy as np\ndf1 = pd.DataFrame(\n    np.arange(10).reshape(5, 2),\n    columns=['x', 'y'],\n    index=['a', 'b', 'c', 'd', 'e'],\n)\ndf1",
      "metadata": {
        "trusted": true
      },
      "outputs": [
        {
          "execution_count": 11,
          "output_type": "execute_result",
          "data": {
            "text/plain": "   x  y\na  0  1\nb  2  3\nc  4  5\nd  6  7\ne  8  9",
            "text/html": "<div>\n<style scoped>\n    .dataframe tbody tr th:only-of-type {\n        vertical-align: middle;\n    }\n\n    .dataframe tbody tr th {\n        vertical-align: top;\n    }\n\n    .dataframe thead th {\n        text-align: right;\n    }\n</style>\n<table border=\"1\" class=\"dataframe\">\n  <thead>\n    <tr style=\"text-align: right;\">\n      <th></th>\n      <th>x</th>\n      <th>y</th>\n    </tr>\n  </thead>\n  <tbody>\n    <tr>\n      <th>a</th>\n      <td>0</td>\n      <td>1</td>\n    </tr>\n    <tr>\n      <th>b</th>\n      <td>2</td>\n      <td>3</td>\n    </tr>\n    <tr>\n      <th>c</th>\n      <td>4</td>\n      <td>5</td>\n    </tr>\n    <tr>\n      <th>d</th>\n      <td>6</td>\n      <td>7</td>\n    </tr>\n    <tr>\n      <th>e</th>\n      <td>8</td>\n      <td>9</td>\n    </tr>\n  </tbody>\n</table>\n</div>"
          },
          "metadata": {}
        }
      ],
      "execution_count": 11
    },
    {
      "id": "470823b1-e435-4d55-b577-78541aeecb64",
      "cell_type": "markdown",
      "source": "Let's create a small example. So we **create a data frame.** We have some values with Numpy, a range of five rows and two columns. We specify the columns and. **Then we say the index is ABCD and E.** We're going to run this code. You see now that the index here is ABCD and E.",
      "metadata": {}
    },
    {
      "id": "960045b5-440f-4d4e-886d-ba11e7b46ceb",
      "cell_type": "code",
      "source": "df1.loc[0]",
      "metadata": {
        "trusted": true
      },
      "outputs": [
        {
          "ename": "<class 'KeyError'>",
          "evalue": "0",
          "traceback": [
            "\u001b[0;31m---------------------------------------------------------------------------\u001b[0m",
            "\u001b[0;31mKeyError\u001b[0m                                  Traceback (most recent call last)",
            "File \u001b[0;32m/lib/python3.12/site-packages/pandas/core/indexes/base.py:3805\u001b[0m, in \u001b[0;36mIndex.get_loc\u001b[0;34m(self, key)\u001b[0m\n\u001b[1;32m   3804\u001b[0m \u001b[38;5;28;01mtry\u001b[39;00m:\n\u001b[0;32m-> 3805\u001b[0m     \u001b[38;5;28;01mreturn\u001b[39;00m \u001b[38;5;28;43mself\u001b[39;49m\u001b[38;5;241;43m.\u001b[39;49m\u001b[43m_engine\u001b[49m\u001b[38;5;241;43m.\u001b[39;49m\u001b[43mget_loc\u001b[49m\u001b[43m(\u001b[49m\u001b[43mcasted_key\u001b[49m\u001b[43m)\u001b[49m\n\u001b[1;32m   3806\u001b[0m \u001b[38;5;28;01mexcept\u001b[39;00m \u001b[38;5;167;01mKeyError\u001b[39;00m \u001b[38;5;28;01mas\u001b[39;00m err:\n",
            "File \u001b[0;32mindex.pyx:167\u001b[0m, in \u001b[0;36mpandas._libs.index.IndexEngine.get_loc\u001b[0;34m()\u001b[0m\n",
            "File \u001b[0;32mindex.pyx:196\u001b[0m, in \u001b[0;36mpandas._libs.index.IndexEngine.get_loc\u001b[0;34m()\u001b[0m\n",
            "File \u001b[0;32mpandas/_libs/hashtable_class_helper.pxi:7081\u001b[0m, in \u001b[0;36mpandas._libs.hashtable.PyObjectHashTable.get_item\u001b[0;34m()\u001b[0m\n",
            "File \u001b[0;32mpandas/_libs/hashtable_class_helper.pxi:7089\u001b[0m, in \u001b[0;36mpandas._libs.hashtable.PyObjectHashTable.get_item\u001b[0;34m()\u001b[0m\n",
            "\u001b[0;31mKeyError\u001b[0m: 0",
            "\nThe above exception was the direct cause of the following exception:\n",
            "\u001b[0;31mKeyError\u001b[0m                                  Traceback (most recent call last)",
            "Cell \u001b[0;32mIn[12], line 1\u001b[0m\n\u001b[0;32m----> 1\u001b[0m \u001b[43mdf1\u001b[49m\u001b[38;5;241;43m.\u001b[39;49m\u001b[43mloc\u001b[49m\u001b[43m[\u001b[49m\u001b[38;5;241;43m0\u001b[39;49m\u001b[43m]\u001b[49m\n",
            "File \u001b[0;32m/lib/python3.12/site-packages/pandas/core/indexing.py:1191\u001b[0m, in \u001b[0;36m_LocationIndexer.__getitem__\u001b[0;34m(self, key)\u001b[0m\n\u001b[1;32m   1189\u001b[0m maybe_callable \u001b[38;5;241m=\u001b[39m com\u001b[38;5;241m.\u001b[39mapply_if_callable(key, \u001b[38;5;28mself\u001b[39m\u001b[38;5;241m.\u001b[39mobj)\n\u001b[1;32m   1190\u001b[0m maybe_callable \u001b[38;5;241m=\u001b[39m \u001b[38;5;28mself\u001b[39m\u001b[38;5;241m.\u001b[39m_check_deprecated_callable_usage(key, maybe_callable)\n\u001b[0;32m-> 1191\u001b[0m \u001b[38;5;28;01mreturn\u001b[39;00m \u001b[38;5;28;43mself\u001b[39;49m\u001b[38;5;241;43m.\u001b[39;49m\u001b[43m_getitem_axis\u001b[49m\u001b[43m(\u001b[49m\u001b[43mmaybe_callable\u001b[49m\u001b[43m,\u001b[49m\u001b[43m \u001b[49m\u001b[43maxis\u001b[49m\u001b[38;5;241;43m=\u001b[39;49m\u001b[43maxis\u001b[49m\u001b[43m)\u001b[49m\n",
            "File \u001b[0;32m/lib/python3.12/site-packages/pandas/core/indexing.py:1431\u001b[0m, in \u001b[0;36m_LocIndexer._getitem_axis\u001b[0;34m(self, key, axis)\u001b[0m\n\u001b[1;32m   1429\u001b[0m \u001b[38;5;66;03m# fall thru to straight lookup\u001b[39;00m\n\u001b[1;32m   1430\u001b[0m \u001b[38;5;28mself\u001b[39m\u001b[38;5;241m.\u001b[39m_validate_key(key, axis)\n\u001b[0;32m-> 1431\u001b[0m \u001b[38;5;28;01mreturn\u001b[39;00m \u001b[38;5;28;43mself\u001b[39;49m\u001b[38;5;241;43m.\u001b[39;49m\u001b[43m_get_label\u001b[49m\u001b[43m(\u001b[49m\u001b[43mkey\u001b[49m\u001b[43m,\u001b[49m\u001b[43m \u001b[49m\u001b[43maxis\u001b[49m\u001b[38;5;241;43m=\u001b[39;49m\u001b[43maxis\u001b[49m\u001b[43m)\u001b[49m\n",
            "File \u001b[0;32m/lib/python3.12/site-packages/pandas/core/indexing.py:1381\u001b[0m, in \u001b[0;36m_LocIndexer._get_label\u001b[0;34m(self, label, axis)\u001b[0m\n\u001b[1;32m   1379\u001b[0m \u001b[38;5;28;01mdef\u001b[39;00m \u001b[38;5;21m_get_label\u001b[39m(\u001b[38;5;28mself\u001b[39m, label, axis: AxisInt):\n\u001b[1;32m   1380\u001b[0m     \u001b[38;5;66;03m# GH#5567 this will fail if the label is not present in the axis.\u001b[39;00m\n\u001b[0;32m-> 1381\u001b[0m     \u001b[38;5;28;01mreturn\u001b[39;00m \u001b[38;5;28;43mself\u001b[39;49m\u001b[38;5;241;43m.\u001b[39;49m\u001b[43mobj\u001b[49m\u001b[38;5;241;43m.\u001b[39;49m\u001b[43mxs\u001b[49m\u001b[43m(\u001b[49m\u001b[43mlabel\u001b[49m\u001b[43m,\u001b[49m\u001b[43m \u001b[49m\u001b[43maxis\u001b[49m\u001b[38;5;241;43m=\u001b[39;49m\u001b[43maxis\u001b[49m\u001b[43m)\u001b[49m\n",
            "File \u001b[0;32m/lib/python3.12/site-packages/pandas/core/generic.py:4301\u001b[0m, in \u001b[0;36mNDFrame.xs\u001b[0;34m(self, key, axis, level, drop_level)\u001b[0m\n\u001b[1;32m   4299\u001b[0m             new_index \u001b[38;5;241m=\u001b[39m index[loc]\n\u001b[1;32m   4300\u001b[0m \u001b[38;5;28;01melse\u001b[39;00m:\n\u001b[0;32m-> 4301\u001b[0m     loc \u001b[38;5;241m=\u001b[39m \u001b[43mindex\u001b[49m\u001b[38;5;241;43m.\u001b[39;49m\u001b[43mget_loc\u001b[49m\u001b[43m(\u001b[49m\u001b[43mkey\u001b[49m\u001b[43m)\u001b[49m\n\u001b[1;32m   4303\u001b[0m     \u001b[38;5;28;01mif\u001b[39;00m \u001b[38;5;28misinstance\u001b[39m(loc, np\u001b[38;5;241m.\u001b[39mndarray):\n\u001b[1;32m   4304\u001b[0m         \u001b[38;5;28;01mif\u001b[39;00m loc\u001b[38;5;241m.\u001b[39mdtype \u001b[38;5;241m==\u001b[39m np\u001b[38;5;241m.\u001b[39mbool_:\n",
            "File \u001b[0;32m/lib/python3.12/site-packages/pandas/core/indexes/base.py:3812\u001b[0m, in \u001b[0;36mIndex.get_loc\u001b[0;34m(self, key)\u001b[0m\n\u001b[1;32m   3807\u001b[0m     \u001b[38;5;28;01mif\u001b[39;00m \u001b[38;5;28misinstance\u001b[39m(casted_key, \u001b[38;5;28mslice\u001b[39m) \u001b[38;5;129;01mor\u001b[39;00m (\n\u001b[1;32m   3808\u001b[0m         \u001b[38;5;28misinstance\u001b[39m(casted_key, abc\u001b[38;5;241m.\u001b[39mIterable)\n\u001b[1;32m   3809\u001b[0m         \u001b[38;5;129;01mand\u001b[39;00m \u001b[38;5;28many\u001b[39m(\u001b[38;5;28misinstance\u001b[39m(x, \u001b[38;5;28mslice\u001b[39m) \u001b[38;5;28;01mfor\u001b[39;00m x \u001b[38;5;129;01min\u001b[39;00m casted_key)\n\u001b[1;32m   3810\u001b[0m     ):\n\u001b[1;32m   3811\u001b[0m         \u001b[38;5;28;01mraise\u001b[39;00m InvalidIndexError(key)\n\u001b[0;32m-> 3812\u001b[0m     \u001b[38;5;28;01mraise\u001b[39;00m \u001b[38;5;167;01mKeyError\u001b[39;00m(key) \u001b[38;5;28;01mfrom\u001b[39;00m \u001b[38;5;21;01merr\u001b[39;00m\n\u001b[1;32m   3813\u001b[0m \u001b[38;5;28;01mexcept\u001b[39;00m \u001b[38;5;167;01mTypeError\u001b[39;00m:\n\u001b[1;32m   3814\u001b[0m     \u001b[38;5;66;03m# If we have a listlike key, _check_indexing_error will raise\u001b[39;00m\n\u001b[1;32m   3815\u001b[0m     \u001b[38;5;66;03m#  InvalidIndexError. Otherwise we fall through and re-raise\u001b[39;00m\n\u001b[1;32m   3816\u001b[0m     \u001b[38;5;66;03m#  the TypeError.\u001b[39;00m\n\u001b[1;32m   3817\u001b[0m     \u001b[38;5;28mself\u001b[39m\u001b[38;5;241m.\u001b[39m_check_indexing_error(key)\n",
            "\u001b[0;31mKeyError\u001b[0m: 0"
          ],
          "output_type": "error"
        }
      ],
      "execution_count": 12
    },
    {
      "id": "b70e9918-8fa9-4b28-b815-70e52dc0e5b2",
      "cell_type": "markdown",
      "source": "And now, if you're going to use dot lock 0, **this is going to fail because there's no row labeled 0, but there is a row labeled A** so I can do df dot loc A. ",
      "metadata": {}
    },
    {
      "id": "927151ac-6d06-4ab4-8b43-9815f4225ae6",
      "cell_type": "code",
      "source": "df1.loc['a']",
      "metadata": {
        "trusted": true
      },
      "outputs": [
        {
          "execution_count": 13,
          "output_type": "execute_result",
          "data": {
            "text/plain": "x    0\ny    1\nName: a, dtype: int32"
          },
          "metadata": {}
        }
      ],
      "execution_count": 13
    },
    {
      "id": "4f233209-2e97-4985-b8e1-0973c4f6a0f4",
      "cell_type": "markdown",
      "source": "I can also slice between A and D and pandas can handle it just as well. A side note, labels. **Don't have to be unique if there are repeating labels you will get all the rows with this label.** ",
      "metadata": {}
    },
    {
      "id": "d0fe5308-b965-4d89-a79e-0d98f46d31a6",
      "cell_type": "code",
      "source": "df1.loc['a':'d']",
      "metadata": {
        "trusted": true
      },
      "outputs": [
        {
          "execution_count": 14,
          "output_type": "execute_result",
          "data": {
            "text/plain": "   x  y\na  0  1\nb  2  3\nc  4  5\nd  6  7",
            "text/html": "<div>\n<style scoped>\n    .dataframe tbody tr th:only-of-type {\n        vertical-align: middle;\n    }\n\n    .dataframe tbody tr th {\n        vertical-align: top;\n    }\n\n    .dataframe thead th {\n        text-align: right;\n    }\n</style>\n<table border=\"1\" class=\"dataframe\">\n  <thead>\n    <tr style=\"text-align: right;\">\n      <th></th>\n      <th>x</th>\n      <th>y</th>\n    </tr>\n  </thead>\n  <tbody>\n    <tr>\n      <th>a</th>\n      <td>0</td>\n      <td>1</td>\n    </tr>\n    <tr>\n      <th>b</th>\n      <td>2</td>\n      <td>3</td>\n    </tr>\n    <tr>\n      <th>c</th>\n      <td>4</td>\n      <td>5</td>\n    </tr>\n    <tr>\n      <th>d</th>\n      <td>6</td>\n      <td>7</td>\n    </tr>\n  </tbody>\n</table>\n</div>"
          },
          "metadata": {}
        }
      ],
      "execution_count": 14
    },
    {
      "id": "d0797b1b-73c1-45b7-b4f7-007766a5216e",
      "cell_type": "markdown",
      "source": "Sometimes you'd like to **access the 1st row regardless of the label**. In this case you can use the iloc accessor, which works by position, so DF, iloc at location 0. And this is going to work and bring us the first row. ",
      "metadata": {}
    },
    {
      "id": "c8d23126-7c6b-45e8-9318-df4717f97307",
      "cell_type": "code",
      "source": "df1.iloc[0]",
      "metadata": {
        "trusted": true
      },
      "outputs": [
        {
          "execution_count": 15,
          "output_type": "execute_result",
          "data": {
            "text/plain": "x    0\ny    1\nName: a, dtype: int32"
          },
          "metadata": {}
        }
      ],
      "execution_count": 15
    },
    {
      "id": "8623691f-61c7-4bc6-87f5-a416d2cbfc3d",
      "cell_type": "markdown",
      "source": "Another kind of index you can have is time based index. ",
      "metadata": {}
    },
    {
      "id": "5bec7c1f-2799-4f25-a993-477fec1f1f2e",
      "cell_type": "code",
      "source": "df.index",
      "metadata": {
        "trusted": true
      },
      "outputs": [
        {
          "execution_count": 16,
          "output_type": "execute_result",
          "data": {
            "text/plain": "RangeIndex(start=0, stop=740, step=1)"
          },
          "metadata": {}
        }
      ],
      "execution_count": 16
    },
    {
      "id": "56dfa367-5aec-4b29-b2d3-907aaae7a02a",
      "cell_type": "markdown",
      "source": "So let's change the data frame index which currently if we look at it is a range index and we are **going to set it to the time.** And have a look at it and now it is a daytime index with all of these values. ",
      "metadata": {}
    },
    {
      "id": "92b06fda-6d29-4b49-9359-1c6ecb056ff1",
      "cell_type": "code",
      "source": "df.index = df['time']\ndf.index",
      "metadata": {
        "trusted": true
      },
      "outputs": [
        {
          "execution_count": 17,
          "output_type": "execute_result",
          "data": {
            "text/plain": "DatetimeIndex(['2015-08-20 03:48:07.235000', '2015-08-20 03:48:24.734000',\n               '2015-08-20 03:48:25.660000', '2015-08-20 03:48:26.819000',\n               '2015-08-20 03:48:27.828000', '2015-08-20 03:48:29.720000',\n               '2015-08-20 03:48:30.669000', '2015-08-20 03:48:33.793000',\n               '2015-08-20 03:48:34.869000', '2015-08-20 03:48:37.708000',\n               ...\n               '2015-08-20 04:20:18.844000', '2015-08-20 04:20:21.996000',\n               '2015-08-20 04:20:22.897000', '2015-08-20 04:20:24.905000',\n               '2015-08-20 04:20:25.835000', '2015-08-20 04:20:28.982000',\n               '2015-08-20 04:20:29.923000', '2015-08-20 04:20:32.863000',\n               '2015-08-20 04:20:33.994000', '2015-08-20 04:20:42.329000'],\n              dtype='datetime64[ns]', name='time', length=740, freq=None)"
          },
          "metadata": {}
        }
      ],
      "execution_count": 17
    },
    {
      "id": "01727207-1e68-40ff-906d-57ab04dd8f88",
      "cell_type": "markdown",
      "source": "Now, if you're going to run the lock zero, we're going to see that it's going to **fail because we don't have any row that is labeled with zero.** ",
      "metadata": {}
    },
    {
      "id": "cb4f3692-6b91-40a2-bfa0-e9858fcb6b2b",
      "cell_type": "code",
      "source": "df.loc[0]",
      "metadata": {
        "trusted": true
      },
      "outputs": [
        {
          "ename": "<class 'KeyError'>",
          "evalue": "0",
          "traceback": [
            "\u001b[0;31m---------------------------------------------------------------------------\u001b[0m",
            "\u001b[0;31mKeyError\u001b[0m                                  Traceback (most recent call last)",
            "Cell \u001b[0;32mIn[18], line 1\u001b[0m\n\u001b[0;32m----> 1\u001b[0m \u001b[43mdf\u001b[49m\u001b[38;5;241;43m.\u001b[39;49m\u001b[43mloc\u001b[49m\u001b[43m[\u001b[49m\u001b[38;5;241;43m0\u001b[39;49m\u001b[43m]\u001b[49m\n",
            "File \u001b[0;32m/lib/python3.12/site-packages/pandas/core/indexing.py:1191\u001b[0m, in \u001b[0;36m_LocationIndexer.__getitem__\u001b[0;34m(self, key)\u001b[0m\n\u001b[1;32m   1189\u001b[0m maybe_callable \u001b[38;5;241m=\u001b[39m com\u001b[38;5;241m.\u001b[39mapply_if_callable(key, \u001b[38;5;28mself\u001b[39m\u001b[38;5;241m.\u001b[39mobj)\n\u001b[1;32m   1190\u001b[0m maybe_callable \u001b[38;5;241m=\u001b[39m \u001b[38;5;28mself\u001b[39m\u001b[38;5;241m.\u001b[39m_check_deprecated_callable_usage(key, maybe_callable)\n\u001b[0;32m-> 1191\u001b[0m \u001b[38;5;28;01mreturn\u001b[39;00m \u001b[38;5;28;43mself\u001b[39;49m\u001b[38;5;241;43m.\u001b[39;49m\u001b[43m_getitem_axis\u001b[49m\u001b[43m(\u001b[49m\u001b[43mmaybe_callable\u001b[49m\u001b[43m,\u001b[49m\u001b[43m \u001b[49m\u001b[43maxis\u001b[49m\u001b[38;5;241;43m=\u001b[39;49m\u001b[43maxis\u001b[49m\u001b[43m)\u001b[49m\n",
            "File \u001b[0;32m/lib/python3.12/site-packages/pandas/core/indexing.py:1431\u001b[0m, in \u001b[0;36m_LocIndexer._getitem_axis\u001b[0;34m(self, key, axis)\u001b[0m\n\u001b[1;32m   1429\u001b[0m \u001b[38;5;66;03m# fall thru to straight lookup\u001b[39;00m\n\u001b[1;32m   1430\u001b[0m \u001b[38;5;28mself\u001b[39m\u001b[38;5;241m.\u001b[39m_validate_key(key, axis)\n\u001b[0;32m-> 1431\u001b[0m \u001b[38;5;28;01mreturn\u001b[39;00m \u001b[38;5;28;43mself\u001b[39;49m\u001b[38;5;241;43m.\u001b[39;49m\u001b[43m_get_label\u001b[49m\u001b[43m(\u001b[49m\u001b[43mkey\u001b[49m\u001b[43m,\u001b[49m\u001b[43m \u001b[49m\u001b[43maxis\u001b[49m\u001b[38;5;241;43m=\u001b[39;49m\u001b[43maxis\u001b[49m\u001b[43m)\u001b[49m\n",
            "File \u001b[0;32m/lib/python3.12/site-packages/pandas/core/indexing.py:1381\u001b[0m, in \u001b[0;36m_LocIndexer._get_label\u001b[0;34m(self, label, axis)\u001b[0m\n\u001b[1;32m   1379\u001b[0m \u001b[38;5;28;01mdef\u001b[39;00m \u001b[38;5;21m_get_label\u001b[39m(\u001b[38;5;28mself\u001b[39m, label, axis: AxisInt):\n\u001b[1;32m   1380\u001b[0m     \u001b[38;5;66;03m# GH#5567 this will fail if the label is not present in the axis.\u001b[39;00m\n\u001b[0;32m-> 1381\u001b[0m     \u001b[38;5;28;01mreturn\u001b[39;00m \u001b[38;5;28;43mself\u001b[39;49m\u001b[38;5;241;43m.\u001b[39;49m\u001b[43mobj\u001b[49m\u001b[38;5;241;43m.\u001b[39;49m\u001b[43mxs\u001b[49m\u001b[43m(\u001b[49m\u001b[43mlabel\u001b[49m\u001b[43m,\u001b[49m\u001b[43m \u001b[49m\u001b[43maxis\u001b[49m\u001b[38;5;241;43m=\u001b[39;49m\u001b[43maxis\u001b[49m\u001b[43m)\u001b[49m\n",
            "File \u001b[0;32m/lib/python3.12/site-packages/pandas/core/generic.py:4301\u001b[0m, in \u001b[0;36mNDFrame.xs\u001b[0;34m(self, key, axis, level, drop_level)\u001b[0m\n\u001b[1;32m   4299\u001b[0m             new_index \u001b[38;5;241m=\u001b[39m index[loc]\n\u001b[1;32m   4300\u001b[0m \u001b[38;5;28;01melse\u001b[39;00m:\n\u001b[0;32m-> 4301\u001b[0m     loc \u001b[38;5;241m=\u001b[39m \u001b[43mindex\u001b[49m\u001b[38;5;241;43m.\u001b[39;49m\u001b[43mget_loc\u001b[49m\u001b[43m(\u001b[49m\u001b[43mkey\u001b[49m\u001b[43m)\u001b[49m\n\u001b[1;32m   4303\u001b[0m     \u001b[38;5;28;01mif\u001b[39;00m \u001b[38;5;28misinstance\u001b[39m(loc, np\u001b[38;5;241m.\u001b[39mndarray):\n\u001b[1;32m   4304\u001b[0m         \u001b[38;5;28;01mif\u001b[39;00m loc\u001b[38;5;241m.\u001b[39mdtype \u001b[38;5;241m==\u001b[39m np\u001b[38;5;241m.\u001b[39mbool_:\n",
            "File \u001b[0;32m/lib/python3.12/site-packages/pandas/core/indexes/datetimes.py:627\u001b[0m, in \u001b[0;36mDatetimeIndex.get_loc\u001b[0;34m(self, key)\u001b[0m\n\u001b[1;32m    623\u001b[0m     \u001b[38;5;28;01mreturn\u001b[39;00m \u001b[38;5;28mself\u001b[39m\u001b[38;5;241m.\u001b[39mindexer_at_time(key)\n\u001b[1;32m    625\u001b[0m \u001b[38;5;28;01melse\u001b[39;00m:\n\u001b[1;32m    626\u001b[0m     \u001b[38;5;66;03m# unrecognized type\u001b[39;00m\n\u001b[0;32m--> 627\u001b[0m     \u001b[38;5;28;01mraise\u001b[39;00m \u001b[38;5;167;01mKeyError\u001b[39;00m(key)\n\u001b[1;32m    629\u001b[0m \u001b[38;5;28;01mtry\u001b[39;00m:\n\u001b[1;32m    630\u001b[0m     \u001b[38;5;28;01mreturn\u001b[39;00m Index\u001b[38;5;241m.\u001b[39mget_loc(\u001b[38;5;28mself\u001b[39m, key)\n",
            "\u001b[0;31mKeyError\u001b[0m: 0"
          ],
          "output_type": "error"
        }
      ],
      "execution_count": 18
    },
    {
      "id": "edcb6366-0b51-449d-9098-6b3bcb51e531",
      "cell_type": "code",
      "source": "df.loc['2015-08-20 03:48:34']",
      "metadata": {
        "trusted": true
      },
      "outputs": [
        {
          "execution_count": 19,
          "output_type": "execute_result",
          "data": {
            "text/plain": "                                           time        lat        lng  \\\ntime                                                                    \n2015-08-20 03:48:34.869 2015-08-20 03:48:34.869  32.519694  35.014549   \n\n                             height  \ntime                                 \n2015-08-20 03:48:34.869  121.199997  ",
            "text/html": "<div>\n<style scoped>\n    .dataframe tbody tr th:only-of-type {\n        vertical-align: middle;\n    }\n\n    .dataframe tbody tr th {\n        vertical-align: top;\n    }\n\n    .dataframe thead th {\n        text-align: right;\n    }\n</style>\n<table border=\"1\" class=\"dataframe\">\n  <thead>\n    <tr style=\"text-align: right;\">\n      <th></th>\n      <th>time</th>\n      <th>lat</th>\n      <th>lng</th>\n      <th>height</th>\n    </tr>\n    <tr>\n      <th>time</th>\n      <th></th>\n      <th></th>\n      <th></th>\n      <th></th>\n    </tr>\n  </thead>\n  <tbody>\n    <tr>\n      <th>2015-08-20 03:48:34.869</th>\n      <td>2015-08-20 03:48:34.869</td>\n      <td>32.519694</td>\n      <td>35.014549</td>\n      <td>121.199997</td>\n    </tr>\n  </tbody>\n</table>\n</div>"
          },
          "metadata": {}
        }
      ],
      "execution_count": 19
    },
    {
      "id": "fcdbca78-315f-4bf2-ab57-c79bbadb5a15",
      "cell_type": "code",
      "source": "df.loc['2015-08-20 03:48']",
      "metadata": {
        "trusted": true
      },
      "outputs": [
        {
          "execution_count": 20,
          "output_type": "execute_result",
          "data": {
            "text/plain": "                                           time        lat        lng  \\\ntime                                                                    \n2015-08-20 03:48:07.235 2015-08-20 03:48:07.235  32.519585  35.015021   \n2015-08-20 03:48:24.734 2015-08-20 03:48:24.734  32.519606  35.014954   \n2015-08-20 03:48:25.660 2015-08-20 03:48:25.660  32.519612  35.014871   \n2015-08-20 03:48:26.819 2015-08-20 03:48:26.819  32.519654  35.014824   \n2015-08-20 03:48:27.828 2015-08-20 03:48:27.828  32.519689  35.014776   \n2015-08-20 03:48:29.720 2015-08-20 03:48:29.720  32.519691  35.014704   \n2015-08-20 03:48:30.669 2015-08-20 03:48:30.669  32.519734  35.014657   \n2015-08-20 03:48:33.793 2015-08-20 03:48:33.793  32.519719  35.014563   \n2015-08-20 03:48:34.869 2015-08-20 03:48:34.869  32.519694  35.014549   \n2015-08-20 03:48:37.708 2015-08-20 03:48:37.708  32.519625  35.014515   \n2015-08-20 03:48:38.839 2015-08-20 03:48:38.839  32.519599  35.014505   \n2015-08-20 03:48:41.980 2015-08-20 03:48:41.980  32.519514  35.014481   \n2015-08-20 03:48:42.725 2015-08-20 03:48:42.725  32.519486  35.014472   \n2015-08-20 03:48:45.896 2015-08-20 03:48:45.896  32.519405  35.014439   \n2015-08-20 03:48:46.662 2015-08-20 03:48:46.662  32.519379  35.014432   \n2015-08-20 03:48:49.829 2015-08-20 03:48:49.829  32.519309  35.014414   \n2015-08-20 03:48:50.665 2015-08-20 03:48:50.665  32.519287  35.014400   \n2015-08-20 03:48:53.692 2015-08-20 03:48:53.692  32.519211  35.014372   \n2015-08-20 03:48:54.662 2015-08-20 03:48:54.662  32.519187  35.014365   \n2015-08-20 03:48:58.869 2015-08-20 03:48:58.869  32.519106  35.014337   \n2015-08-20 03:48:59.663 2015-08-20 03:48:59.663  32.519084  35.014331   \n\n                             height  \ntime                                 \n2015-08-20 03:48:07.235  136.199997  \n2015-08-20 03:48:24.734  126.599998  \n2015-08-20 03:48:25.660  123.000000  \n2015-08-20 03:48:26.819  120.500000  \n2015-08-20 03:48:27.828  118.900002  \n2015-08-20 03:48:29.720  119.900002  \n2015-08-20 03:48:30.669  120.900002  \n2015-08-20 03:48:33.793  121.699997  \n2015-08-20 03:48:34.869  121.199997  \n2015-08-20 03:48:37.708  121.699997  \n2015-08-20 03:48:38.839  121.800003  \n2015-08-20 03:48:41.980  122.599998  \n2015-08-20 03:48:42.725  123.000000  \n2015-08-20 03:48:45.896  122.699997  \n2015-08-20 03:48:46.662  122.699997  \n2015-08-20 03:48:49.829  122.699997  \n2015-08-20 03:48:50.665  123.300003  \n2015-08-20 03:48:53.692  122.300003  \n2015-08-20 03:48:54.662  122.599998  \n2015-08-20 03:48:58.869  122.000000  \n2015-08-20 03:48:59.663  121.800003  ",
            "text/html": "<div>\n<style scoped>\n    .dataframe tbody tr th:only-of-type {\n        vertical-align: middle;\n    }\n\n    .dataframe tbody tr th {\n        vertical-align: top;\n    }\n\n    .dataframe thead th {\n        text-align: right;\n    }\n</style>\n<table border=\"1\" class=\"dataframe\">\n  <thead>\n    <tr style=\"text-align: right;\">\n      <th></th>\n      <th>time</th>\n      <th>lat</th>\n      <th>lng</th>\n      <th>height</th>\n    </tr>\n    <tr>\n      <th>time</th>\n      <th></th>\n      <th></th>\n      <th></th>\n      <th></th>\n    </tr>\n  </thead>\n  <tbody>\n    <tr>\n      <th>2015-08-20 03:48:07.235</th>\n      <td>2015-08-20 03:48:07.235</td>\n      <td>32.519585</td>\n      <td>35.015021</td>\n      <td>136.199997</td>\n    </tr>\n    <tr>\n      <th>2015-08-20 03:48:24.734</th>\n      <td>2015-08-20 03:48:24.734</td>\n      <td>32.519606</td>\n      <td>35.014954</td>\n      <td>126.599998</td>\n    </tr>\n    <tr>\n      <th>2015-08-20 03:48:25.660</th>\n      <td>2015-08-20 03:48:25.660</td>\n      <td>32.519612</td>\n      <td>35.014871</td>\n      <td>123.000000</td>\n    </tr>\n    <tr>\n      <th>2015-08-20 03:48:26.819</th>\n      <td>2015-08-20 03:48:26.819</td>\n      <td>32.519654</td>\n      <td>35.014824</td>\n      <td>120.500000</td>\n    </tr>\n    <tr>\n      <th>2015-08-20 03:48:27.828</th>\n      <td>2015-08-20 03:48:27.828</td>\n      <td>32.519689</td>\n      <td>35.014776</td>\n      <td>118.900002</td>\n    </tr>\n    <tr>\n      <th>2015-08-20 03:48:29.720</th>\n      <td>2015-08-20 03:48:29.720</td>\n      <td>32.519691</td>\n      <td>35.014704</td>\n      <td>119.900002</td>\n    </tr>\n    <tr>\n      <th>2015-08-20 03:48:30.669</th>\n      <td>2015-08-20 03:48:30.669</td>\n      <td>32.519734</td>\n      <td>35.014657</td>\n      <td>120.900002</td>\n    </tr>\n    <tr>\n      <th>2015-08-20 03:48:33.793</th>\n      <td>2015-08-20 03:48:33.793</td>\n      <td>32.519719</td>\n      <td>35.014563</td>\n      <td>121.699997</td>\n    </tr>\n    <tr>\n      <th>2015-08-20 03:48:34.869</th>\n      <td>2015-08-20 03:48:34.869</td>\n      <td>32.519694</td>\n      <td>35.014549</td>\n      <td>121.199997</td>\n    </tr>\n    <tr>\n      <th>2015-08-20 03:48:37.708</th>\n      <td>2015-08-20 03:48:37.708</td>\n      <td>32.519625</td>\n      <td>35.014515</td>\n      <td>121.699997</td>\n    </tr>\n    <tr>\n      <th>2015-08-20 03:48:38.839</th>\n      <td>2015-08-20 03:48:38.839</td>\n      <td>32.519599</td>\n      <td>35.014505</td>\n      <td>121.800003</td>\n    </tr>\n    <tr>\n      <th>2015-08-20 03:48:41.980</th>\n      <td>2015-08-20 03:48:41.980</td>\n      <td>32.519514</td>\n      <td>35.014481</td>\n      <td>122.599998</td>\n    </tr>\n    <tr>\n      <th>2015-08-20 03:48:42.725</th>\n      <td>2015-08-20 03:48:42.725</td>\n      <td>32.519486</td>\n      <td>35.014472</td>\n      <td>123.000000</td>\n    </tr>\n    <tr>\n      <th>2015-08-20 03:48:45.896</th>\n      <td>2015-08-20 03:48:45.896</td>\n      <td>32.519405</td>\n      <td>35.014439</td>\n      <td>122.699997</td>\n    </tr>\n    <tr>\n      <th>2015-08-20 03:48:46.662</th>\n      <td>2015-08-20 03:48:46.662</td>\n      <td>32.519379</td>\n      <td>35.014432</td>\n      <td>122.699997</td>\n    </tr>\n    <tr>\n      <th>2015-08-20 03:48:49.829</th>\n      <td>2015-08-20 03:48:49.829</td>\n      <td>32.519309</td>\n      <td>35.014414</td>\n      <td>122.699997</td>\n    </tr>\n    <tr>\n      <th>2015-08-20 03:48:50.665</th>\n      <td>2015-08-20 03:48:50.665</td>\n      <td>32.519287</td>\n      <td>35.014400</td>\n      <td>123.300003</td>\n    </tr>\n    <tr>\n      <th>2015-08-20 03:48:53.692</th>\n      <td>2015-08-20 03:48:53.692</td>\n      <td>32.519211</td>\n      <td>35.014372</td>\n      <td>122.300003</td>\n    </tr>\n    <tr>\n      <th>2015-08-20 03:48:54.662</th>\n      <td>2015-08-20 03:48:54.662</td>\n      <td>32.519187</td>\n      <td>35.014365</td>\n      <td>122.599998</td>\n    </tr>\n    <tr>\n      <th>2015-08-20 03:48:58.869</th>\n      <td>2015-08-20 03:48:58.869</td>\n      <td>32.519106</td>\n      <td>35.014337</td>\n      <td>122.000000</td>\n    </tr>\n    <tr>\n      <th>2015-08-20 03:48:59.663</th>\n      <td>2015-08-20 03:48:59.663</td>\n      <td>32.519084</td>\n      <td>35.014331</td>\n      <td>121.800003</td>\n    </tr>\n  </tbody>\n</table>\n</div>"
          },
          "metadata": {}
        }
      ],
      "execution_count": 20
    }
  ]
}