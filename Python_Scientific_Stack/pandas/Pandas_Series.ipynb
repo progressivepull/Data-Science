{
 "cells": [
  {
   "cell_type": "markdown",
   "id": "6347eb2e-6fdd-4205-b568-756da90f7ae0",
   "metadata": {},
   "source": [
    "# Pandas Series"
   ]
  },
  {
   "cell_type": "markdown",
   "id": "af710373-77b8-482a-b619-e54d3ec62432",
   "metadata": {},
   "source": [
    "A NumPy series, in the context of data analysis with Python, commonly refers to a one-dimensional array with the capability of holding data of any type. It is similar to a column in a spreadsheet or a SQL table. However, the term \"NumPy series\" is not standard. Instead, the correct terminology is Pandas Series, which is built upon NumPy arrays.\n",
    "\n",
    "**Pandas Series provides enhanced functionality compared to NumPy arrays**, such as labeled indexing, automatic data alignment, and handling of missing values. It is a fundamental data structure in the Pandas library, widely used for data manipulation and analysis."
   ]
  },
  {
   "cell_type": "code",
   "execution_count": 3,
   "id": "d112b89b-9b40-49e6-9911-ffbd0f265803",
   "metadata": {},
   "outputs": [],
   "source": [
    "import pandas as pd\n",
    "import numpy as np"
   ]
  },
  {
   "cell_type": "code",
   "execution_count": 4,
   "id": "88004503-d6d4-4fd5-9970-585ffe8672b5",
   "metadata": {},
   "outputs": [
    {
     "name": "stdout",
     "output_type": "stream",
     "text": [
      "0    10\n",
      "1    20\n",
      "2    30\n",
      "3    40\n",
      "4    50\n",
      "dtype: int32\n"
     ]
    }
   ],
   "source": [
    "# Creating a Pandas Series from a NumPy array\n",
    "numpy_array = np.array([10, 20, 30, 40, 50])\n",
    "pandas_series = pd.Series(numpy_array)\n",
    "\n",
    "print(pandas_series)"
   ]
  },
  {
   "cell_type": "code",
   "execution_count": 2,
   "id": "d07db3d6-db1f-49e4-b577-75554b3c8a65",
   "metadata": {},
   "outputs": [
    {
     "name": "stdout",
     "output_type": "stream",
     "text": [
      "a    10\n",
      "b    20\n",
      "c    30\n",
      "d    40\n",
      "e    50\n",
      "dtype: int32\n"
     ]
    }
   ],
   "source": [
    "# Creating a Pandas Series with custom index\n",
    "pandas_series_custom_index = pd.Series(numpy_array, index=['a', 'b', 'c', 'd', 'e'])\n",
    "\n",
    "print(pandas_series_custom_index)\n",
    "# Output:\n",
    "# a    10\n",
    "# b    20\n",
    "# c    30\n",
    "# d    40\n",
    "# e    50\n",
    "# dtype: int64"
   ]
  },
  {
   "cell_type": "markdown",
   "id": "247a44ea-ce34-4aac-a964-cbeb499a450e",
   "metadata": {},
   "source": [
    "[Context_Python_Scientific_Stack](./../../Context_Python_Scientific_Stack.md)"
   ]
  }
 ],
 "metadata": {
  "kernelspec": {
   "display_name": "Python [conda env:base] *",
   "language": "python",
   "name": "conda-base-py"
  },
  "language_info": {
   "codemirror_mode": {
    "name": "ipython",
    "version": 3
   },
   "file_extension": ".py",
   "mimetype": "text/x-python",
   "name": "python",
   "nbconvert_exporter": "python",
   "pygments_lexer": "ipython3",
   "version": "3.12.7"
  }
 },
 "nbformat": 4,
 "nbformat_minor": 5
}
