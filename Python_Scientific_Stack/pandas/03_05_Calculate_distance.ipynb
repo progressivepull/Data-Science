{
 "cells": [
  {
   "cell_type": "markdown",
   "id": "a6febf19-ea73-4fed-b644-aed130880b09",
   "metadata": {},
   "source": [
    "### CH3/05 Calculate distance\n",
    "main > Ch03 > 02_05 > speed.py"
   ]
  },
  {
   "cell_type": "code",
   "execution_count": 3,
   "id": "f1c1c53b-0af7-4cc0-a49e-7de4f6a218ba",
   "metadata": {},
   "outputs": [],
   "source": [
    "import pandas as pd\n",
    "import numpy as np"
   ]
  },
  {
   "cell_type": "markdown",
   "id": "3c877893-7425-426f-85f2-6dad02e59792",
   "metadata": {},
   "source": [
    "Let's calculate how slow I jog for **speed we need time and distance**. \n",
    "\n",
    "$Speed = Time /Distance$\n",
    "\n",
    "We have latitude and longitude, and we're going to **cheat and use Euclidian distance instead of distance on a sphere**. "
   ]
  },
  {
   "cell_type": "markdown",
   "id": "8b2d7b68-6808-45f0-a0a4-0530a4d0acba",
   "metadata": {},
   "source": [
    "So first we're going to load the data with read CSV. "
   ]
  },
  {
   "cell_type": "code",
   "execution_count": 4,
   "id": "06e80bea-084e-4ed3-80da-3d4d5d3219be",
   "metadata": {},
   "outputs": [
    {
     "data": {
      "text/html": [
       "<div>\n",
       "<style scoped>\n",
       "    .dataframe tbody tr th:only-of-type {\n",
       "        vertical-align: middle;\n",
       "    }\n",
       "\n",
       "    .dataframe tbody tr th {\n",
       "        vertical-align: top;\n",
       "    }\n",
       "\n",
       "    .dataframe thead th {\n",
       "        text-align: right;\n",
       "    }\n",
       "</style>\n",
       "<table border=\"1\" class=\"dataframe\">\n",
       "  <thead>\n",
       "    <tr style=\"text-align: right;\">\n",
       "      <th></th>\n",
       "      <th>time</th>\n",
       "      <th>lat</th>\n",
       "      <th>lng</th>\n",
       "      <th>height</th>\n",
       "    </tr>\n",
       "  </thead>\n",
       "  <tbody>\n",
       "    <tr>\n",
       "      <th>0</th>\n",
       "      <td>2015-08-20 03:48:07.235</td>\n",
       "      <td>32.519585</td>\n",
       "      <td>35.015021</td>\n",
       "      <td>136.199997</td>\n",
       "    </tr>\n",
       "    <tr>\n",
       "      <th>1</th>\n",
       "      <td>2015-08-20 03:48:24.734</td>\n",
       "      <td>32.519606</td>\n",
       "      <td>35.014954</td>\n",
       "      <td>126.599998</td>\n",
       "    </tr>\n",
       "    <tr>\n",
       "      <th>2</th>\n",
       "      <td>2015-08-20 03:48:25.660</td>\n",
       "      <td>32.519612</td>\n",
       "      <td>35.014871</td>\n",
       "      <td>123.000000</td>\n",
       "    </tr>\n",
       "    <tr>\n",
       "      <th>3</th>\n",
       "      <td>2015-08-20 03:48:26.819</td>\n",
       "      <td>32.519654</td>\n",
       "      <td>35.014824</td>\n",
       "      <td>120.500000</td>\n",
       "    </tr>\n",
       "    <tr>\n",
       "      <th>4</th>\n",
       "      <td>2015-08-20 03:48:27.828</td>\n",
       "      <td>32.519689</td>\n",
       "      <td>35.014776</td>\n",
       "      <td>118.900002</td>\n",
       "    </tr>\n",
       "    <tr>\n",
       "      <th>...</th>\n",
       "      <td>...</td>\n",
       "      <td>...</td>\n",
       "      <td>...</td>\n",
       "      <td>...</td>\n",
       "    </tr>\n",
       "    <tr>\n",
       "      <th>735</th>\n",
       "      <td>2015-08-20 04:20:28.982</td>\n",
       "      <td>32.517020</td>\n",
       "      <td>35.014387</td>\n",
       "      <td>104.800003</td>\n",
       "    </tr>\n",
       "    <tr>\n",
       "      <th>736</th>\n",
       "      <td>2015-08-20 04:20:29.923</td>\n",
       "      <td>32.517035</td>\n",
       "      <td>35.014355</td>\n",
       "      <td>105.199997</td>\n",
       "    </tr>\n",
       "    <tr>\n",
       "      <th>737</th>\n",
       "      <td>2015-08-20 04:20:32.863</td>\n",
       "      <td>32.517087</td>\n",
       "      <td>35.014279</td>\n",
       "      <td>102.900002</td>\n",
       "    </tr>\n",
       "    <tr>\n",
       "      <th>738</th>\n",
       "      <td>2015-08-20 04:20:33.994</td>\n",
       "      <td>32.517098</td>\n",
       "      <td>35.014264</td>\n",
       "      <td>102.400002</td>\n",
       "    </tr>\n",
       "    <tr>\n",
       "      <th>739</th>\n",
       "      <td>2015-08-20 04:20:42.329</td>\n",
       "      <td>32.517142</td>\n",
       "      <td>35.014212</td>\n",
       "      <td>103.400002</td>\n",
       "    </tr>\n",
       "  </tbody>\n",
       "</table>\n",
       "<p>740 rows × 4 columns</p>\n",
       "</div>"
      ],
      "text/plain": [
       "                       time        lat        lng      height\n",
       "0   2015-08-20 03:48:07.235  32.519585  35.015021  136.199997\n",
       "1   2015-08-20 03:48:24.734  32.519606  35.014954  126.599998\n",
       "2   2015-08-20 03:48:25.660  32.519612  35.014871  123.000000\n",
       "3   2015-08-20 03:48:26.819  32.519654  35.014824  120.500000\n",
       "4   2015-08-20 03:48:27.828  32.519689  35.014776  118.900002\n",
       "..                      ...        ...        ...         ...\n",
       "735 2015-08-20 04:20:28.982  32.517020  35.014387  104.800003\n",
       "736 2015-08-20 04:20:29.923  32.517035  35.014355  105.199997\n",
       "737 2015-08-20 04:20:32.863  32.517087  35.014279  102.900002\n",
       "738 2015-08-20 04:20:33.994  32.517098  35.014264  102.400002\n",
       "739 2015-08-20 04:20:42.329  32.517142  35.014212  103.400002\n",
       "\n",
       "[740 rows x 4 columns]"
      ]
     },
     "execution_count": 4,
     "metadata": {},
     "output_type": "execute_result"
    }
   ],
   "source": [
    "csv_file = 'track.csv'\n",
    "df = pd.read_csv(csv_file, parse_dates=['time'])\n",
    "df"
   ]
  },
  {
   "cell_type": "markdown",
   "id": "ff330870-8732-45ec-83e3-f1424bb0a2bc",
   "metadata": {},
   "source": [
    "**One latitude** in **kilometers** is about **92 kilometers** and **one longitude** is about **111 kilometers**. It's varies depending on where you are on earth, but it's good enough for what we're going to do. "
   ]
  },
  {
   "cell_type": "code",
   "execution_count": 5,
   "id": "1ebd0eda-9931-4b5e-afca-1b0c1db304af",
   "metadata": {},
   "outputs": [],
   "source": [
    "lat_km = 92\n",
    "lng_km = 111"
   ]
  },
  {
   "cell_type": "markdown",
   "id": "6d4e7d84-e046-4c3e-b057-37a490f027ac",
   "metadata": {},
   "source": [
    "So we're going to **define distance function which takes the delta latitude, the latter longitude. Multiply them.** By the constants and then use Numpy to get the kleidion distance. So we're going to run this cell. There is no output, but now we have the function."
   ]
  },
  {
   "cell_type": "code",
   "execution_count": 6,
   "id": "b9df740a-14e9-4232-ae9f-a1ac8270dd80",
   "metadata": {},
   "outputs": [],
   "source": [
    "def distance(lat1, lng1, lat2, lng2):\n",
    "    delta_lat = (lat1 - lat2) * lat_km\n",
    "    delta_lng = (lng1 - lng2) * lng_km\n",
    "    return np.hypot(delta_lat, delta_lng)"
   ]
  },
  {
   "cell_type": "markdown",
   "id": "60256842-f398-40b3-b5cd-a753d624e36a",
   "metadata": {},
   "source": [
    "Let's take **first longitude and latitude** and the **second one**. We'll take 200 and 201 and we're going to calculate the distance between them."
   ]
  },
  {
   "cell_type": "code",
   "execution_count": 7,
   "id": "21e9ccd5-8130-4b20-ac00-321d7104c5cd",
   "metadata": {},
   "outputs": [
    {
     "data": {
      "text/plain": [
       "np.float64(0.009249671616168792)"
      ]
     },
     "execution_count": 7,
     "metadata": {},
     "output_type": "execute_result"
    }
   ],
   "source": [
    "lat1, lng1 = df.loc[200]['lat'], df.iloc[200]['lng']\n",
    "lat2, lng2 = df.loc[201]['lat'], df.iloc[201]['lng']\n",
    "distance(lat1, lng1, lat2, lng2)"
   ]
  },
  {
   "cell_type": "markdown",
   "id": "d511f0c1-abd2-4fe0-9f22-57d14184462f",
   "metadata": {},
   "source": [
    "We need to calculate the distance between every row. Remember we want to **avoid for loops as much as possible**. Let's use the shift method. \n",
    "\n",
    "To avoid looping, here's an example so. **And creating a series of five elements**. So zero to four now. "
   ]
  },
  {
   "cell_type": "code",
   "execution_count": 8,
   "id": "931bf19e-0bce-4d96-911b-fe433ba1d337",
   "metadata": {},
   "outputs": [
    {
     "data": {
      "text/plain": [
       "0    0\n",
       "1    1\n",
       "2    2\n",
       "3    3\n",
       "4    4\n",
       "dtype: int32"
      ]
     },
     "execution_count": 8,
     "metadata": {},
     "output_type": "execute_result"
    }
   ],
   "source": [
    "s = pd.Series(np.arange(5))\n",
    "s"
   ]
  },
  {
   "cell_type": "markdown",
   "id": "93b4f8cc-405f-41ff-a819-2673e5860bfe",
   "metadata": {},
   "source": [
    "If I'm going to run the shift operator, I'm going to get none is the first one, and every element is **shifted downward.** "
   ]
  },
  {
   "cell_type": "code",
   "execution_count": 9,
   "id": "4995317c-15bb-43cd-9a4b-f55adc691554",
   "metadata": {},
   "outputs": [
    {
     "data": {
      "text/plain": [
       "0    NaN\n",
       "1    0.0\n",
       "2    1.0\n",
       "3    2.0\n",
       "4    3.0\n",
       "dtype: float64"
      ]
     },
     "execution_count": 9,
     "metadata": {},
     "output_type": "execute_result"
    }
   ],
   "source": [
    "s.shift()"
   ]
  },
  {
   "cell_type": "markdown",
   "id": "1475ae91-8daf-47b1-976f-8aa7821c0086",
   "metadata": {},
   "source": [
    "Shift can also work in the other direction. **If I give it -1. So now I have none at the bottom** and everyone is shifted up. "
   ]
  },
  {
   "cell_type": "code",
   "execution_count": 10,
   "id": "0ee314dc-f307-4545-87d6-aae6f0729438",
   "metadata": {},
   "outputs": [
    {
     "data": {
      "text/plain": [
       "0    1.0\n",
       "1    2.0\n",
       "2    3.0\n",
       "3    4.0\n",
       "4    NaN\n",
       "dtype: float64"
      ]
     },
     "execution_count": 10,
     "metadata": {},
     "output_type": "execute_result"
    }
   ],
   "source": [
    "s.shift(-1)"
   ]
  },
  {
   "cell_type": "markdown",
   "id": "c4bb6f36-c41f-465f-a019-3365a9120a1b",
   "metadata": {},
   "source": [
    "Now we're going to use shift so we get the distance, we take the latitude and longitude and the **shifted latitude and longitude.** And if you're going to run this one, we're going to get Nan again for the first value and then distances which are in kilometers. "
   ]
  },
  {
   "cell_type": "code",
   "execution_count": 11,
   "id": "af7d9e90-360e-4d1c-8a37-6d4a1d75f248",
   "metadata": {},
   "outputs": [
    {
     "data": {
      "text/plain": [
       "0         NaN\n",
       "1    0.007684\n",
       "2    0.009230\n",
       "3    0.006492\n",
       "4    0.006225\n",
       "dtype: float64"
      ]
     },
     "execution_count": 11,
     "metadata": {},
     "output_type": "execute_result"
    }
   ],
   "source": [
    "dist = distance(\n",
    "    df['lat'], df['lng'], \n",
    "    df['lat'].shift(), df['lng'].shift(),\n",
    ")\n",
    "dist[:5]"
   ]
  },
  {
   "cell_type": "markdown",
   "id": "dc104446-125c-4489-8432-0583217dbce2",
   "metadata": {},
   "source": [
    "Let's do a sanity check and **sum all of the distances 4.7 kilometers.** That seems about right. "
   ]
  },
  {
   "cell_type": "code",
   "execution_count": 12,
   "id": "3c844cb1-b5b4-4160-aa52-a79dec752f83",
   "metadata": {},
   "outputs": [
    {
     "data": {
      "text/plain": [
       "np.float64(4.693669332948701)"
      ]
     },
     "execution_count": 12,
     "metadata": {},
     "output_type": "execute_result"
    }
   ],
   "source": [
    "dist.sum()"
   ]
  },
  {
   "cell_type": "markdown",
   "id": "7627cfd8-0375-41a4-9a66-d0eee0886dbb",
   "metadata": {},
   "source": [
    "Now we'd like to **calculate the difference in times.** This one, we're going to use the diff. If you're going to run it now, we're going to see again, not the time for the first one. And then the **difference in times 17 seconds, 0 seconds, 1 second, etc.** "
   ]
  },
  {
   "cell_type": "code",
   "execution_count": 13,
   "id": "57dded05-4bd4-49d7-b0e7-5ca0f1c7b4cf",
   "metadata": {},
   "outputs": [
    {
     "data": {
      "text/plain": [
       "0                      NaT\n",
       "1   0 days 00:00:17.499000\n",
       "2   0 days 00:00:00.926000\n",
       "3   0 days 00:00:01.159000\n",
       "4   0 days 00:00:01.009000\n",
       "Name: time, dtype: timedelta64[ns]"
      ]
     },
     "execution_count": 13,
     "metadata": {},
     "output_type": "execute_result"
    }
   ],
   "source": [
    "times = df['time'].diff()\n",
    "times[:5]"
   ]
  },
  {
   "cell_type": "markdown",
   "id": "a622f78a-28e6-4d5a-b295-8768f3f78921",
   "metadata": {},
   "source": [
    "So what we are going to do is time. We're going to take times and divide it by pandas time delta saying one hour. **And now we see the numbers as fractions of an hour.**"
   ]
  },
  {
   "cell_type": "code",
   "execution_count": 14,
   "id": "eeb1cb97-5c25-44aa-b642-57f16f12b40e",
   "metadata": {},
   "outputs": [
    {
     "data": {
      "text/plain": [
       "Timedelta('0 days 00:32:35.094000')"
      ]
     },
     "execution_count": 14,
     "metadata": {},
     "output_type": "execute_result"
    }
   ],
   "source": [
    "times.sum()"
   ]
  },
  {
   "cell_type": "markdown",
   "id": "60ec0627-4619-4206-8768-523022fc52ee",
   "metadata": {},
   "source": [
    "Finally, we can calculate the speed, so we do distance divided by times, hour and we are going to see the speed. This speed is in kilometers per hour. "
   ]
  },
  {
   "cell_type": "code",
   "execution_count": 15,
   "id": "225b6b00-3f83-4eed-b63e-6ecff63ca9ef",
   "metadata": {},
   "outputs": [
    {
     "data": {
      "text/plain": [
       "0         NaN\n",
       "1    0.004861\n",
       "2    0.000257\n",
       "3    0.000322\n",
       "4    0.000280\n",
       "Name: time, dtype: float64"
      ]
     },
     "execution_count": 15,
     "metadata": {},
     "output_type": "execute_result"
    }
   ],
   "source": [
    "times_hour = times / pd.Timedelta(1, 'hour')\n",
    "times_hour[:5]"
   ]
  },
  {
   "cell_type": "markdown",
   "id": "2b98821a-4e7f-4507-b345-d37c6f30497f",
   "metadata": {},
   "source": [
    "[Context_Python_Scientific_Stack](./../../Context_Python_Scientific_Stack.md)"
   ]
  }
 ],
 "metadata": {
  "kernelspec": {
   "display_name": "Python [conda env:base] *",
   "language": "python",
   "name": "conda-base-py"
  },
  "language_info": {
   "codemirror_mode": {
    "name": "ipython",
    "version": 3
   },
   "file_extension": ".py",
   "mimetype": "text/x-python",
   "name": "python",
   "nbconvert_exporter": "python",
   "pygments_lexer": "ipython3",
   "version": "3.12.7"
  }
 },
 "nbformat": 4,
 "nbformat_minor": 5
}
