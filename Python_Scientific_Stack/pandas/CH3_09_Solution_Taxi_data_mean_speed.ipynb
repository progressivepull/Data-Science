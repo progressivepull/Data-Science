{
 "cells": [
  {
   "cell_type": "markdown",
   "id": "45b1231b-a157-49f3-abfd-6652ad63cd6e",
   "metadata": {},
   "source": [
    "### CH3/09 Solution: Taxi data mean speed\n",
    "main > Ch03 > solution > download_data.py        \n",
    "main > Ch03 > solution > mean_speed.py        "
   ]
  },
  {
   "cell_type": "markdown",
   "id": "8f618eed-0801-4d88-8232-1d57b084b489",
   "metadata": {},
   "source": [
    "# Calculating Mean Speed (miles per hour) from `taxi.parquet`\n",
    "\n",
    "## Overview\n",
    "This script loads a Parquet file containing taxi trip data and calculates the mean speed of trips in miles per hour."
   ]
  },
  {
   "cell_type": "markdown",
   "id": "79cfcaa2-ccd0-42e4-afea-8f157f83b19d",
   "metadata": {},
   "source": [
    "1. **Download the Data**\n",
    "   Run `download_data.py` to obtain the `taxi.parquet` file."
   ]
  },
  {
   "cell_type": "markdown",
   "id": "e0a08c4d-ac2d-4630-b020-125a8aee7353",
   "metadata": {},
   "source": [
    "2. **Load the Dataset**  \n",
    "   The Parquet file is read into a Pandas DataFrame using:"
   ]
  },
  {
   "cell_type": "code",
   "execution_count": 11,
   "id": "1dd87f68-3f0c-4021-b316-a9926059936f",
   "metadata": {},
   "outputs": [],
   "source": [
    "import pandas as pd\n",
    "df = pd.read_parquet('taxi.parquet')"
   ]
  },
  {
   "cell_type": "code",
   "execution_count": 13,
   "id": "23a4e4f4-7299-4dea-b03f-5c8b09cdfe6b",
   "metadata": {},
   "outputs": [
    {
     "name": "stdout",
     "output_type": "stream",
     "text": [
      "   VendorID tpep_pickup_datetime tpep_dropoff_datetime  passenger_count  \\\n",
      "0         1  2020-08-01 00:02:53   2020-08-01 00:28:54              1.0   \n",
      "1         2  2020-08-01 00:08:11   2020-08-01 00:16:28              1.0   \n",
      "2         2  2020-08-01 00:22:14   2020-08-01 00:22:20              1.0   \n",
      "\n",
      "   trip_distance  RatecodeID store_and_fwd_flag  PULocationID  DOLocationID  \\\n",
      "0          13.20         1.0                  N           237            16   \n",
      "1           2.83         1.0                  N           146           137   \n",
      "2           0.00         1.0                  N           264           264   \n",
      "\n",
      "   payment_type  fare_amount  extra  mta_tax  tip_amount  tolls_amount  \\\n",
      "0             2         36.5    3.0      0.5         0.0           0.0   \n",
      "1             1         10.5    0.5      0.5         1.5           0.0   \n",
      "2             2          2.5    0.5      0.5         0.0           0.0   \n",
      "\n",
      "   improvement_surcharge  total_amount  congestion_surcharge  airport_fee  \n",
      "0                    0.3          40.3                   2.5          NaN  \n",
      "1                    0.3          15.8                   2.5          NaN  \n",
      "2                    0.3           3.8                   0.0          NaN  \n"
     ]
    }
   ],
   "source": [
    "print(df.head(3))"
   ]
  },
  {
   "cell_type": "markdown",
   "id": "7c41a99f-15cc-41ea-8ab0-06b055d7d053",
   "metadata": {},
   "source": [
    "3. **Filter Out Invalid Entries** Ensure that drop-off times are later than pick-up times:"
   ]
  },
  {
   "cell_type": "code",
   "execution_count": 42,
   "id": "5b24a7a9-79ae-4868-882c-ba76b08cdbb9",
   "metadata": {},
   "outputs": [
    {
     "name": "stdout",
     "output_type": "stream",
     "text": [
      "0          True\n",
      "1          True\n",
      "2          True\n",
      "3          True\n",
      "4          True\n",
      "           ... \n",
      "1007281    True\n",
      "1007282    True\n",
      "1007283    True\n",
      "1007284    True\n",
      "1007285    True\n",
      "Length: 1006450, dtype: bool\n"
     ]
    }
   ],
   "source": [
    "print(df['tpep_dropoff_datetime'] > df['tpep_pickup_datetime'] )"
   ]
  },
  {
   "cell_type": "code",
   "execution_count": 23,
   "id": "0b8f00f8-5fb3-486a-9c28-bfe53cefb70e",
   "metadata": {},
   "outputs": [],
   "source": [
    "mask = df['tpep_dropoff_datetime'] > df['tpep_pickup_datetime']\n",
    "df = df[mask]"
   ]
  },
  {
   "cell_type": "markdown",
   "id": "daf93d64-e18c-4935-8af1-523142f46a51",
   "metadata": {},
   "source": [
    "4. **Calculate Trip Duration in Hours** Compute the time difference between drop-off and pick-up, then convert it to hours:"
   ]
  },
  {
   "cell_type": "code",
   "execution_count": 38,
   "id": "5a3103e5-9779-455d-aa1a-9dd00ffd32e9",
   "metadata": {},
   "outputs": [],
   "source": [
    "times = df['tpep_dropoff_datetime'] - df['tpep_pickup_datetime']\n",
    "times_hour = times / pd.Timedelta(1, 'hour')"
   ]
  },
  {
   "cell_type": "code",
   "execution_count": 40,
   "id": "63e5d211-30d7-4465-b7c8-9e3c910ec619",
   "metadata": {},
   "outputs": [
    {
     "name": "stdout",
     "output_type": "stream",
     "text": [
      "0          0.433611\n",
      "1          0.138056\n",
      "2          0.001667\n",
      "3          0.088611\n",
      "4          0.047500\n",
      "             ...   \n",
      "1007281    0.103611\n",
      "1007282    0.150000\n",
      "1007283    0.112778\n",
      "1007284    0.483333\n",
      "1007285    0.400000\n",
      "Length: 1006450, dtype: float64\n"
     ]
    }
   ],
   "source": [
    "print(times_hour)"
   ]
  },
  {
   "cell_type": "markdown",
   "id": "de95cd5d-c984-42b4-849e-86590818bfdc",
   "metadata": {},
   "source": [
    "5. **Compute Speed** Divide the trip distance by the trip duration to get speed in miles per hour:"
   ]
  },
  {
   "cell_type": "code",
   "execution_count": 45,
   "id": "0f4d41f9-a2a8-4ded-9456-7b1adbf53d4b",
   "metadata": {},
   "outputs": [],
   "source": [
    "speed = df['trip_distance'] / times_hour"
   ]
  },
  {
   "cell_type": "code",
   "execution_count": 47,
   "id": "a5ecff4f-05b2-429d-ac63-d75f44cef5f8",
   "metadata": {},
   "outputs": [
    {
     "name": "stdout",
     "output_type": "stream",
     "text": [
      "0          30.442024\n",
      "1          20.498994\n",
      "2           0.000000\n",
      "3          26.407524\n",
      "4          27.789474\n",
      "             ...    \n",
      "1007281    13.608579\n",
      "1007282    15.200000\n",
      "1007283    14.187192\n",
      "1007284    18.827586\n",
      "1007285    32.250000\n",
      "Length: 1006450, dtype: float64\n"
     ]
    }
   ],
   "source": [
    "print(speed)"
   ]
  },
  {
   "cell_type": "markdown",
   "id": "28065da5-4254-4eb3-8aad-7c9ba308ab32",
   "metadata": {},
   "source": [
    "6. **Calculate Mean Speed** Finally, find the mean speed across all trips:"
   ]
  },
  {
   "cell_type": "code",
   "execution_count": 50,
   "id": "b45fd2a9-a130-48b3-9ae4-7c01d1e64dbe",
   "metadata": {},
   "outputs": [
    {
     "data": {
      "text/plain": [
       "17.179585517575283"
      ]
     },
     "execution_count": 50,
     "metadata": {},
     "output_type": "execute_result"
    }
   ],
   "source": [
    "speed.mean()"
   ]
  },
  {
   "cell_type": "markdown",
   "id": "a873dec1-c0ee-4782-b067-66f3f006cbeb",
   "metadata": {},
   "source": [
    "The result is the average speed of taxi trips in miles per hour."
   ]
  },
  {
   "cell_type": "code",
   "execution_count": null,
   "id": "ce4855a1-5934-422b-b9f8-013a1350c8ad",
   "metadata": {},
   "outputs": [],
   "source": [
    "[Context_Python_Scientific_Stack](./../../Context_Python_Scientific_Stack.md)"
   ]
  }
 ],
 "metadata": {
  "kernelspec": {
   "display_name": "Python [conda env:base] *",
   "language": "python",
   "name": "conda-base-py"
  },
  "language_info": {
   "codemirror_mode": {
    "name": "ipython",
    "version": 3
   },
   "file_extension": ".py",
   "mimetype": "text/x-python",
   "name": "python",
   "nbconvert_exporter": "python",
   "pygments_lexer": "ipython3",
   "version": "3.12.7"
  }
 },
 "nbformat": 4,
 "nbformat_minor": 5
}
