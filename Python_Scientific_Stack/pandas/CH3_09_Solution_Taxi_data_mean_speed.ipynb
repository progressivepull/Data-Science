{
 "cells": [
  {
   "cell_type": "code",
   "execution_count": null,
   "id": "b81317cf-82ab-4664-8aa6-19855501f845",
   "metadata": {},
   "outputs": [],
   "source": []
  }
 ],
 "metadata": {
  "kernelspec": {
   "display_name": "",
   "name": ""
  },
  "language_info": {
   "name": ""
  }
 },
 "nbformat": 4,
 "nbformat_minor": 5
}
