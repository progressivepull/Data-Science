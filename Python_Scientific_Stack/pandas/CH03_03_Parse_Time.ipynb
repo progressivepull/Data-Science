{
 "cells": [
  {
   "cell_type": "markdown",
   "id": "34735a23-045a-49cd-967d-46501641f19d",
   "metadata": {},
   "source": [
    "### CH03/03 Parse Time \n",
    "main > Ch03 > 02_03 > parse_time.py"
   ]
  },
  {
   "cell_type": "code",
   "execution_count": 2,
   "id": "f202cb83-80ae-470b-972c-a6d2162337f7",
   "metadata": {},
   "outputs": [],
   "source": [
    "import pandas as pd"
   ]
  },
  {
   "cell_type": "markdown",
   "id": "3d527f36-f6eb-4e37-9e39-7d1b2e994746",
   "metadata": {},
   "source": [
    "Let's load our Data Frame. So we import pandas and we read the CSV and we display the data types. For each column. You can see the latitude, longitude and height are floats and the **time is an object, which usually means a string in panels**. In some cases it's OK for data to be a string, but in our case you expect some kind of a timestamp, unlike JSON and other formats, CSV don't have type information embedded with the data. Which means that everything comes out as a string. Pandas does a good job at guessing types, but here it needs our help in parsing the time. "
   ]
  },
  {
   "cell_type": "code",
   "execution_count": 3,
   "id": "b9ba574a-3edd-4f8a-ac0a-7d1c286f8a99",
   "metadata": {},
   "outputs": [
    {
     "data": {
      "text/plain": [
       "time       object\n",
       "lat       float64\n",
       "lng       float64\n",
       "height    float64\n",
       "dtype: object"
      ]
     },
     "execution_count": 3,
     "metadata": {},
     "output_type": "execute_result"
    }
   ],
   "source": [
    "csv_file = 'track.csv'\n",
    "df = pd.read_csv(csv_file)\n",
    "df.dtypes"
   ]
  },
  {
   "cell_type": "markdown",
   "id": "976095cb-be25-43e9-8477-0e686a9c8ad5",
   "metadata": {},
   "source": [
    "There are many ways to write time as a string. **Pandas parser know most of the common formats.** If you **need to write time as a string**, do yourself a favor and use a known **format such as RFC 3339**. Also pick a format without spaces in it. And have the **year first, so sorting time as a string will work as intended**. "
   ]
  },
  {
   "cell_type": "markdown",
   "id": "86186584-3a51-4a71-ab45-5632d4ccebb1",
   "metadata": {},
   "source": [
    "Let's take a look at the **read CSV method**. It has many many arguments. One of these arguments. Is past dates where you can pass a list of columns to be passed as times."
   ]
  },
  {
   "cell_type": "markdown",
   "id": "a455ca61-b218-43eb-901d-f76761230091",
   "metadata": {},
   "source": [
    "https://pandas.pydata.org/pandas-docs/stable/reference/api/pandas.read_csv.html"
   ]
  },
  {
   "cell_type": "markdown",
   "id": "66a54850-8ca6-45f8-8507-ee58b1a7a8fc",
   "metadata": {},
   "source": [
    "**parse_dates : bool, list of Hashable, list of lists or dict of {Hashablelist}, default False**      \n",
    "The behavior is as follows:\n",
    "\n",
    "* bool. If True -> try parsing the index. Note: Automatically set to True if date_format or date_parser arguments have been passed.\n",
    "\n",
    "* list of int or names. e.g. If [1, 2, 3] -> try parsing columns 1, 2, 3 each as a separate date column.\n",
    "\n",
    "* list of list. e.g. If [[1, 3]] -> combine columns 1 and 3 and parse as a single date column. Values are joined with a space before parsing.\n",
    "\n",
    "* dict, e.g. {'foo' : [1, 3]} -> parse columns 1, 3 as date and call result ‘foo’. Values are joined with a space before parsing.\n",
    "\n",
    "If a column or index cannot be represented as an array of datetime, say because of an unparsable value or a mixture of timezones, the column or index will be returned unaltered as an object data type. For non-standard datetime parsing, use to_datetime() after read_csv().\n",
    "\n",
    "Note: A fast-path exists for iso8601-formatted dates."
   ]
  },
  {
   "cell_type": "markdown",
   "id": "627912c6-5462-40f4-832b-13b13d5ed56a",
   "metadata": {},
   "source": [
    "This is where our initial look at the data came handy. You know before loading which column you'd like to pass this time. **We're doing load pandas with CSV file and tell it to pass the dates.** With only a single column which is a time column. And run the cell and now we see that the time is daytime64[ns] which means a 64 bit timestamp in a nanosecond resolution on your machine. This might be a little bit different."
   ]
  },
  {
   "cell_type": "code",
   "execution_count": 4,
   "id": "026c0f49-ff04-499e-ae83-6a4527ef3d78",
   "metadata": {},
   "outputs": [
    {
     "data": {
      "text/plain": [
       "time      datetime64[ns]\n",
       "lat              float64\n",
       "lng              float64\n",
       "height           float64\n",
       "dtype: object"
      ]
     },
     "execution_count": 4,
     "metadata": {},
     "output_type": "execute_result"
    }
   ],
   "source": [
    "df = pd.read_csv(csv_file, parse_dates=['time'])\n",
    "df.dtypes"
   ]
  },
  {
   "cell_type": "markdown",
   "id": "275bea7d-4982-4c05-8644-d74bef861dac",
   "metadata": {},
   "source": [
    "[Context_Python_Scientific_Stack](./../../Context_Python_Scientific_Stack.md)"
   ]
  }
 ],
 "metadata": {
  "kernelspec": {
   "display_name": "Python [conda env:base] *",
   "language": "python",
   "name": "conda-base-py"
  },
  "language_info": {
   "codemirror_mode": {
    "name": "ipython",
    "version": 3
   },
   "file_extension": ".py",
   "mimetype": "text/x-python",
   "name": "python",
   "nbconvert_exporter": "python",
   "pygments_lexer": "ipython3",
   "version": "3.12.7"
  }
 },
 "nbformat": 4,
 "nbformat_minor": 5
}
