{
 "cells": [
  {
   "cell_type": "markdown",
   "metadata": {},
   "source": [
    "## CH3/03_02 Loading CSV Files"
   ]
  },
  {
   "cell_type": "markdown",
   "metadata": {},
   "source": [
    "We're going to have a look at the log of one of my runs a few years back. "
   ]
  },
  {
   "cell_type": "markdown",
   "metadata": {},
   "source": [
    "We'll start by looking at the data which is in **CSV format**. Pandas is going to load the whole CSV into memory and it's a **good idea to have a quick look at the data before you load some corrupted data or a file** that is too big to fit in memory. If you **don't have enough memory on your computer, you can spin a machine in the cloud** with a lot of memory, do your work, and then tear it down. This approach is usually very cost effective and much easier than using a big data platform. If you think your data is too big, remember that you can spin a machine with several terabytes of memory. "
   ]
  },
  {
   "cell_type": "markdown",
   "metadata": {},
   "source": [
    "So here's our data. We have 4 columns, time, latitude, longitude and height."
   ]
  },
  {
   "cell_type": "markdown",
   "metadata": {},
   "source": [
    "<img src=\"./images/data_four_columns.png\" alt=\"data_four_columns\" width=\"500\" height=\"600\">"
   ]
  },
  {
   "cell_type": "code",
   "execution_count": 2,
   "metadata": {},
   "outputs": [],
   "source": [
    "from pathlib import Path"
   ]
  },
  {
   "cell_type": "markdown",
   "metadata": {},
   "source": [
    "So let's start. First, let's look at the size of the file on disk, so I'm going to use path Lib and then define what is kilobyte. Define the CSV file and **use the stat method to get the size and divide it by kilobyte as the size is in bytes**. So let's run this one so 426 kilobytes. "
   ]
  },
  {
   "cell_type": "code",
   "execution_count": 3,
   "metadata": {},
   "outputs": [
    {
     "data": {
      "text/plain": [
       "42.6005859375"
      ]
     },
     "execution_count": 3,
     "metadata": {},
     "output_type": "execute_result"
    }
   ],
   "source": [
    "# File size\n",
    "\n",
    "kb = 2**10\n",
    "\n",
    "csv_file = Path('track.csv')\n",
    "csv_file.stat().st_size / kb"
   ]
  },
  {
   "cell_type": "markdown",
   "metadata": {},
   "source": [
    "You can do the same thing with the **shell command**, so we start with the bank sign telling Ipython or the interactive prompt to run a shell command, and this **is an extension to Python And you pass the name of the CSV file prefixed by the dollar sign as a variable**. Note that this command will work only on Linux or a Mac, not on. Windows. Now let's see how many lines we have. "
   ]
  },
  {
   "cell_type": "code",
   "execution_count": null,
   "metadata": {},
   "outputs": [],
   "source": [
    "!ls -lh $csv_file"
   ]
  },
  {
   "cell_type": "markdown",
   "metadata": {},
   "source": [
    "So we do with CSV file open and you should **open always file with a with statement**. This makes sure that they are closed when you are done with them. So we're going to run it, **count the lines** and also **print the 1st 5 lines**. "
   ]
  },
  {
   "cell_type": "markdown",
   "metadata": {},
   "source": [
    "The code provided is written in Python. Here's a breakdown of what it does:\n",
    "\n",
    "1. count = 0: Initializes a variable count to 0. This variable will be used to count the number of lines in the CSV file.\n",
    "\n",
    "2. with csv_file.open() as fp: Opens the CSV file using the open method and creates a file pointer fp. The with statement ensures that the file is properly closed after its suite finishes, even if an exception is raised.\n",
    "\n",
    "3. for lnum, line in enumerate(fp, 1): Iterates over each line in the file, with lnum being the line number (starting from 1) and line being the content of the current line.\n",
    "\n",
    "4. count += 1: Increments the count variable by 1 for each line in the file.\n",
    "\n",
    "5. if lnum <= 5: Checks if the current line number is less than or equal to 5.\n",
    "\n",
    "6. print(line, end=''): Prints the current line without adding an extra newline character (since end='').\n",
    "\n",
    "7. print(f'{count} lines'): After exiting the loop, prints the total number of lines in the file.\n",
    "\n",
    "So, this code snippet reads a CSV file, counts the number of lines, prints the first 5 lines, and finally prints the total number of lines in the file."
   ]
  },
  {
   "cell_type": "code",
   "execution_count": null,
   "metadata": {},
   "outputs": [],
   "source": [
    "# First few lines & line count\n",
    "count = 0\n",
    "with csv_file.open() as fp:\n",
    "    for lnum, line in enumerate(fp, 1):\n",
    "        count += 1\n",
    "        if lnum <= 5:\n",
    "            print(line, end='')\n",
    "print(f'{count} lines')"
   ]
  },
  {
   "cell_type": "markdown",
   "metadata": {},
   "source": [
    "And we can do the same with the Shell command. First the head utility to see the 1st 5 lines and then the WC -l to see how many lines we have in there."
   ]
  },
  {
   "cell_type": "code",
   "execution_count": null,
   "metadata": {},
   "outputs": [],
   "source": [
    "# First few lines\n",
    "!head -5 $csv_file"
   ]
  },
  {
   "cell_type": "code",
   "execution_count": null,
   "metadata": {},
   "outputs": [],
   "source": [
    "# %% Line count\n",
    "!wc -l $csv_file"
   ]
  },
  {
   "cell_type": "markdown",
   "metadata": {},
   "source": [
    "Now we can load the data frame into pandas, so we import pandas as pd and the df is pd read CSV. The variable holding the **dataframe is traditionally called df**.\n",
    "\n",
    "We are going to print how many rows are in the data frame so len of df. And now we are going to get 740 while wc showed us 741, pandas is loading the 1st row as the column names and counting only the rest of the rows which are the data rows. "
   ]
  },
  {
   "cell_type": "code",
   "execution_count": 4,
   "metadata": {},
   "outputs": [
    {
     "data": {
      "text/plain": [
       "740"
      ]
     },
     "execution_count": 4,
     "metadata": {},
     "output_type": "execute_result"
    }
   ],
   "source": [
    "# Load to data frame\n",
    "import pandas as pd\n",
    "from pathlib import Path\n",
    "\n",
    "csv_file = Path('track.csv')\n",
    "\n",
    "df = pd.read_csv(csv_file)\n",
    "len(df)"
   ]
  },
  {
   "cell_type": "markdown",
   "metadata": {},
   "source": [
    "Let's have a look at the column. So df.columns and we see we have time, latitude, longitude and height which matches what we actually see in the CSV. "
   ]
  },
  {
   "cell_type": "code",
   "execution_count": 5,
   "metadata": {},
   "outputs": [
    {
     "data": {
      "text/plain": [
       "Index(['time', 'lat', 'lng', 'height'], dtype='object')"
      ]
     },
     "execution_count": 5,
     "metadata": {},
     "output_type": "execute_result"
    }
   ],
   "source": [
    "df.columns"
   ]
  },
  {
   "cell_type": "markdown",
   "metadata": {},
   "source": [
    "We can also run the info method to get some **information about every column**, so the column how many non values we have and what is the data type of every. We see that the first column is an object, which means the string and then we have floats for latitude, longitude and height. "
   ]
  },
  {
   "cell_type": "code",
   "execution_count": 6,
   "metadata": {},
   "outputs": [
    {
     "name": "stdout",
     "output_type": "stream",
     "text": [
      "<class 'pandas.core.frame.DataFrame'>\n",
      "RangeIndex: 740 entries, 0 to 739\n",
      "Data columns (total 4 columns):\n",
      " #   Column  Non-Null Count  Dtype  \n",
      "---  ------  --------------  -----  \n",
      " 0   time    740 non-null    object \n",
      " 1   lat     740 non-null    float64\n",
      " 2   lng     740 non-null    float64\n",
      " 3   height  740 non-null    float64\n",
      "dtypes: float64(3), object(1)\n",
      "memory usage: 20.3+ KB\n"
     ]
    }
   ],
   "source": [
    "df.info()"
   ]
  },
  {
   "cell_type": "markdown",
   "metadata": {},
   "source": [
    "You can also find the **described method which will give you information** about numerical columns. So only the latitude and longitude and height you'll get the **count, the mean, standard deviations and other interesting statistics**."
   ]
  },
  {
   "cell_type": "code",
   "execution_count": 7,
   "metadata": {},
   "outputs": [
    {
     "data": {
      "text/html": [
       "<div>\n",
       "<style scoped>\n",
       "    .dataframe tbody tr th:only-of-type {\n",
       "        vertical-align: middle;\n",
       "    }\n",
       "\n",
       "    .dataframe tbody tr th {\n",
       "        vertical-align: top;\n",
       "    }\n",
       "\n",
       "    .dataframe thead th {\n",
       "        text-align: right;\n",
       "    }\n",
       "</style>\n",
       "<table border=\"1\" class=\"dataframe\">\n",
       "  <thead>\n",
       "    <tr style=\"text-align: right;\">\n",
       "      <th></th>\n",
       "      <th>lat</th>\n",
       "      <th>lng</th>\n",
       "      <th>height</th>\n",
       "    </tr>\n",
       "  </thead>\n",
       "  <tbody>\n",
       "    <tr>\n",
       "      <th>count</th>\n",
       "      <td>740.000000</td>\n",
       "      <td>740.000000</td>\n",
       "      <td>740.000000</td>\n",
       "    </tr>\n",
       "    <tr>\n",
       "      <th>mean</th>\n",
       "      <td>32.512191</td>\n",
       "      <td>35.015832</td>\n",
       "      <td>97.876892</td>\n",
       "    </tr>\n",
       "    <tr>\n",
       "      <th>std</th>\n",
       "      <td>0.002974</td>\n",
       "      <td>0.003665</td>\n",
       "      <td>11.985234</td>\n",
       "    </tr>\n",
       "    <tr>\n",
       "      <th>min</th>\n",
       "      <td>32.508092</td>\n",
       "      <td>35.009294</td>\n",
       "      <td>77.500000</td>\n",
       "    </tr>\n",
       "    <tr>\n",
       "      <th>25%</th>\n",
       "      <td>32.509432</td>\n",
       "      <td>35.012891</td>\n",
       "      <td>88.000000</td>\n",
       "    </tr>\n",
       "    <tr>\n",
       "      <th>50%</th>\n",
       "      <td>32.511454</td>\n",
       "      <td>35.015709</td>\n",
       "      <td>97.649998</td>\n",
       "    </tr>\n",
       "    <tr>\n",
       "      <th>75%</th>\n",
       "      <td>32.514143</td>\n",
       "      <td>35.018649</td>\n",
       "      <td>106.450001</td>\n",
       "    </tr>\n",
       "    <tr>\n",
       "      <th>max</th>\n",
       "      <td>32.519734</td>\n",
       "      <td>35.022774</td>\n",
       "      <td>136.199997</td>\n",
       "    </tr>\n",
       "  </tbody>\n",
       "</table>\n",
       "</div>"
      ],
      "text/plain": [
       "              lat         lng      height\n",
       "count  740.000000  740.000000  740.000000\n",
       "mean    32.512191   35.015832   97.876892\n",
       "std      0.002974    0.003665   11.985234\n",
       "min     32.508092   35.009294   77.500000\n",
       "25%     32.509432   35.012891   88.000000\n",
       "50%     32.511454   35.015709   97.649998\n",
       "75%     32.514143   35.018649  106.450001\n",
       "max     32.519734   35.022774  136.199997"
      ]
     },
     "execution_count": 7,
     "metadata": {},
     "output_type": "execute_result"
    }
   ],
   "source": [
    "df.describe()"
   ]
  },
  {
   "cell_type": "code",
   "execution_count": null,
   "metadata": {},
   "outputs": [],
   "source": []
  }
 ],
 "metadata": {
  "kernelspec": {
   "display_name": "Python [conda env:base] *",
   "language": "python",
   "name": "conda-base-py"
  },
  "language_info": {
   "codemirror_mode": {
    "name": "ipython",
    "version": 3
   },
   "file_extension": ".py",
   "mimetype": "text/x-python",
   "name": "python",
   "nbconvert_exporter": "python",
   "pygments_lexer": "ipython3",
   "version": "3.12.7"
  }
 },
 "nbformat": 4,
 "nbformat_minor": 4
}
