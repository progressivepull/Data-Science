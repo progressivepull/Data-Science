{
 "cells": [
  {
   "cell_type": "code",
   "execution_count": 2,
   "id": "9ef41c08-72c7-435c-ae37-b6bdba535521",
   "metadata": {},
   "outputs": [],
   "source": [
    "import numpy as np"
   ]
  },
  {
   "cell_type": "markdown",
   "id": "4b63772e-9ebd-4f96-bc55-6efce53cd81b",
   "metadata": {},
   "source": [
    "# Square"
   ]
  },
  {
   "cell_type": "markdown",
   "id": "77b51103-9e0e-4d95-99df-374de6557774",
   "metadata": {},
   "source": [
    "Here is how to square elements of a NumPy array. The **numpy.square()** function returns a new array with each element being the square of the corresponding element in the input array."
   ]
  },
  {
   "cell_type": "code",
   "execution_count": 4,
   "id": "272810d7-81a5-494b-9981-578270f5a94d",
   "metadata": {},
   "outputs": [
    {
     "name": "stdout",
     "output_type": "stream",
     "text": [
      "[ 1  4  9 16 25]\n"
     ]
    }
   ],
   "source": [
    "# Create a NumPy array\n",
    "arr = np.array([1, 2, 3, 4, 5])\n",
    "\n",
    "# Calculate the square of each element\n",
    "squared_arr = np.square(arr)\n",
    "\n",
    "# Print the result\n",
    "print(squared_arr)  # Output: [ 1  4  9 16 25]"
   ]
  },
  {
   "cell_type": "markdown",
   "id": "ef710452-0d0f-48c9-b7e3-8c63710eec5c",
   "metadata": {},
   "source": [
    "# Square Root"
   ]
  },
  {
   "cell_type": "markdown",
   "id": "22c94377-8501-4550-ab3c-205ef83197e3",
   "metadata": {},
   "source": [
    "**numpy.sqrt()** in Python is a function from the NumPy library used to compute the square root of each element in an array or a single number. It returns a new array of the same shape with the square roots of the input values. The function handles both positive and negative numbers, returning NaN for negative inputs when working with real numbers."
   ]
  },
  {
   "cell_type": "code",
   "execution_count": 5,
   "id": "df31c551-82ef-4c22-89d5-83efed4599f2",
   "metadata": {},
   "outputs": [
    {
     "name": "stdout",
     "output_type": "stream",
     "text": [
      "[1. 2. 3. 4. 5.]\n"
     ]
    }
   ],
   "source": [
    "a = np.array([1, 4, 9, 16, 25])\n",
    "b = np.sqrt(a)\n",
    "print(b)"
   ]
  },
  {
   "cell_type": "markdown",
   "id": "d9e3f8cb-5d7e-46c4-b8ae-fd10fcf5554f",
   "metadata": {},
   "source": [
    "# Pythagorean Theorem \n",
    "[Pythagorean Theorem Calculator](https://www.calculatorsoup.com/calculators/geometry-plane/pythagorean-theorem.php)"
   ]
  },
  {
   "cell_type": "markdown",
   "id": "f815c864-ae3e-4060-9389-c9f635dd6d0b",
   "metadata": {},
   "source": [
    "$a^2 + b^2 = c^2$"
   ]
  },
  {
   "cell_type": "code",
   "execution_count": 6,
   "id": "af87a0e7-6ceb-42ab-acfc-d6f5b2ef1a11",
   "metadata": {},
   "outputs": [
    {
     "data": {
      "text/plain": [
       "np.float64(3.605551275463989)"
      ]
     },
     "execution_count": 6,
     "metadata": {},
     "output_type": "execute_result"
    }
   ],
   "source": [
    "np.sqrt(np.square(2)+ np.square(3)) "
   ]
  },
  {
   "cell_type": "markdown",
   "id": "3724191a-e552-45f8-b445-8f52d630bcbb",
   "metadata": {},
   "source": [
    "OR"
   ]
  },
  {
   "cell_type": "code",
   "execution_count": 7,
   "id": "4a7d837c-36d0-46c7-bc6b-04463d49ffc1",
   "metadata": {},
   "outputs": [
    {
     "data": {
      "text/plain": [
       "array([3.60555128])"
      ]
     },
     "execution_count": 7,
     "metadata": {},
     "output_type": "execute_result"
    }
   ],
   "source": [
    "a = np.array([2])\n",
    "b = np.array([3])\n",
    "\n",
    "result = np.hypot(a, b)\n",
    "\n",
    "result"
   ]
  },
  {
   "cell_type": "markdown",
   "id": "71cdb5dd-91fe-4918-b11b-c163e1e7d74e",
   "metadata": {},
   "source": [
    "[Context_Python_Scientific_Stack](./../../Context_Python_Scientific_Stack.md)"
   ]
  }
 ],
 "metadata": {
  "kernelspec": {
   "display_name": "Python [conda env:base] *",
   "language": "python",
   "name": "conda-base-py"
  },
  "language_info": {
   "codemirror_mode": {
    "name": "ipython",
    "version": 3
   },
   "file_extension": ".py",
   "mimetype": "text/x-python",
   "name": "python",
   "nbconvert_exporter": "python",
   "pygments_lexer": "ipython3",
   "version": "3.12.7"
  }
 },
 "nbformat": 4,
 "nbformat_minor": 5
}
