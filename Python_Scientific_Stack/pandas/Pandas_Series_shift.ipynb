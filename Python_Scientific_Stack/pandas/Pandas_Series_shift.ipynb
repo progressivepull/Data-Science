{
  "metadata": {
    "kernelspec": {
      "name": "python",
      "display_name": "Python (Pyodide)",
      "language": "python"
    },
    "language_info": {
      "codemirror_mode": {
        "name": "python",
        "version": 3
      },
      "file_extension": ".py",
      "mimetype": "text/x-python",
      "name": "python",
      "nbconvert_exporter": "python",
      "pygments_lexer": "ipython3",
      "version": "3.8"
    }
  },
  "nbformat_minor": 5,
  "nbformat": 4,
  "cells": [
    {
      "id": "11338b6a-116b-465b-aee8-d5a5304079b1",
      "cell_type": "markdown",
      "source": "# Pandas Series.shift",
      "metadata": {}
    },
    {
      "id": "ac40ed31-49f8-4ff8-bbca-63a459670079",
      "cell_type": "markdown",
      "source": "Pandas series is a One-dimensional ndarray with axis labels. The labels need not be unique but must be a hashable type. The object supports both integer- and label-based indexing and provides a host of methods for performing operations involving the index.",
      "metadata": {}
    },
    {
      "id": "77e32034-0938-4de0-86fc-208e6a341be4",
      "cell_type": "markdown",
      "source": "Pandas Series.shift() function shift index by desired number of periods with an optional time freq. When freq is not passed, shift the index without realigning the data.",
      "metadata": {}
    },
    {
      "id": "dd001d1e-e346-471a-ba7e-92b4c88c0c74",
      "cell_type": "markdown",
      "source": "**Syntax:** Series.shift(periods=1, freq=None, axis=0, fill_value=None)    \n\n**Parameter :**     \n\n* **periods :**  Number of periods to shift. Can be positive or negative.     \n\n* **freq :**  Offset to use from the tseries module or time rule (e.g. ‘EOM’)   \n\n* **axis :**  Shift direction.    \n\n* **fill_value :**  The scalar value to use for newly introduced missing values    \n\n\n**Returns :** Copy of input object, shifted.     ",
      "metadata": {}
    },
    {
      "id": "7bfb5238-2c37-4306-bc05-7ed05de05e9c",
      "cell_type": "markdown",
      "source": "**Example #1:** Use Series.shift() function to shift the data of the given Series object by 2 periods.",
      "metadata": {}
    },
    {
      "id": "6b9a93fe-eb02-4220-a710-33ac3ca7617c",
      "cell_type": "code",
      "source": "import pandas as pd\n\n# Create the Series\nsr = pd.Series(['New York', 'Chicago', 'Toronto', 'Lisbon', 'Rio', 'Moscow'])\n\n# Create the Datetime Index\ndidx = pd.date_range(start='2014-08-01 10:00', freq='W', periods=6, tz='Europe/Berlin')\n\n# Set the index\nsr.index = didx\n\nprint(sr)",
      "metadata": {
        "trusted": true
      },
      "outputs": [
        {
          "name": "stdout",
          "output_type": "stream",
          "text": "2014-08-03 10:00:00+02:00    New York\n2014-08-10 10:00:00+02:00     Chicago\n2014-08-17 10:00:00+02:00     Toronto\n2014-08-24 10:00:00+02:00      Lisbon\n2014-08-31 10:00:00+02:00         Rio\n2014-09-07 10:00:00+02:00      Moscow\nFreq: W-SUN, dtype: object\n"
        }
      ],
      "execution_count": 2
    },
    {
      "id": "15f74a59-2ad0-4d98-9ba5-066781a59315",
      "cell_type": "code",
      "source": "# shift by 2 periods \nsr.shift(periods = 2) ",
      "metadata": {
        "trusted": true
      },
      "outputs": [
        {
          "execution_count": 3,
          "output_type": "execute_result",
          "data": {
            "text/plain": "2014-08-03 10:00:00+02:00        None\n2014-08-10 10:00:00+02:00        None\n2014-08-17 10:00:00+02:00    New York\n2014-08-24 10:00:00+02:00     Chicago\n2014-08-31 10:00:00+02:00     Toronto\n2014-09-07 10:00:00+02:00      Lisbon\nFreq: W-SUN, dtype: object"
          },
          "metadata": {}
        }
      ],
      "execution_count": 3
    },
    {
      "id": "b7e2655c-6720-40c7-9550-543ed348f214",
      "cell_type": "markdown",
      "source": "As we can see in the output, the Series.shift() function has successfully shifted the data over the index. Notice the data corresponding to the last two indexes has been dropped.",
      "metadata": {}
    },
    {
      "id": "7b203905-599d-4b3e-99ea-aecd38029275",
      "cell_type": "code",
      "source": "",
      "metadata": {
        "trusted": true
      },
      "outputs": [],
      "execution_count": null
    }
  ]
}