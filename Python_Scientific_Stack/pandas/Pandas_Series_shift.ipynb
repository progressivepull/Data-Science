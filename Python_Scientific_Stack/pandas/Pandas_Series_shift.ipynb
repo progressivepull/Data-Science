{
 "cells": [
  {
   "cell_type": "markdown",
   "id": "11338b6a-116b-465b-aee8-d5a5304079b1",
   "metadata": {},
   "source": [
    "# Pandas Series.shift"
   ]
  },
  {
   "cell_type": "markdown",
   "id": "ac40ed31-49f8-4ff8-bbca-63a459670079",
   "metadata": {},
   "source": [
    "Pandas series is a One-dimensional ndarray with axis labels. The labels need not be unique but must be a hashable type. The object supports both integer- and label-based indexing and provides a host of methods for performing operations involving the index."
   ]
  },
  {
   "cell_type": "markdown",
   "id": "77e32034-0938-4de0-86fc-208e6a341be4",
   "metadata": {},
   "source": [
    "Pandas Series.shift() function shift index by desired number of periods with an optional time freq. When freq is not passed, shift the index without realigning the data."
   ]
  },
  {
   "cell_type": "markdown",
   "id": "dd001d1e-e346-471a-ba7e-92b4c88c0c74",
   "metadata": {},
   "source": [
    "**Syntax:** Series.shift(periods=1, freq=None, axis=0, fill_value=None)    \n",
    "\n",
    "**Parameter :**     \n",
    "\n",
    "* **periods :**  Number of periods to shift. Can be positive or negative.     \n",
    "\n",
    "* **freq :**  Offset to use from the tseries module or time rule (e.g. ‘EOM’)   \n",
    "\n",
    "* **axis :**  Shift direction.    \n",
    "\n",
    "* **fill_value :**  The scalar value to use for newly introduced missing values    \n",
    "\n",
    "\n",
    "**Returns :** Copy of input object, shifted.     "
   ]
  },
  {
   "cell_type": "markdown",
   "id": "7bfb5238-2c37-4306-bc05-7ed05de05e9c",
   "metadata": {},
   "source": [
    "**Example #1:** Use Series.shift() function to shift the data of the given Series object by 2 periods."
   ]
  },
  {
   "cell_type": "code",
   "execution_count": 2,
   "id": "6b9a93fe-eb02-4220-a710-33ac3ca7617c",
   "metadata": {},
   "outputs": [
    {
     "name": "stdout",
     "output_type": "stream",
     "text": [
      "2014-08-03 10:00:00+02:00    New York\n",
      "2014-08-10 10:00:00+02:00     Chicago\n",
      "2014-08-17 10:00:00+02:00     Toronto\n",
      "2014-08-24 10:00:00+02:00      Lisbon\n",
      "2014-08-31 10:00:00+02:00         Rio\n",
      "2014-09-07 10:00:00+02:00      Moscow\n",
      "Freq: W-SUN, dtype: object\n"
     ]
    }
   ],
   "source": [
    "import pandas as pd\n",
    "\n",
    "# Create the Series\n",
    "sr = pd.Series(['New York', 'Chicago', 'Toronto', 'Lisbon', 'Rio', 'Moscow'])\n",
    "\n",
    "# Create the Datetime Index\n",
    "didx = pd.date_range(start='2014-08-01 10:00', freq='W', periods=6, tz='Europe/Berlin')\n",
    "\n",
    "# Set the index\n",
    "sr.index = didx\n",
    "\n",
    "print(sr)"
   ]
  },
  {
   "cell_type": "code",
   "execution_count": 3,
   "id": "15f74a59-2ad0-4d98-9ba5-066781a59315",
   "metadata": {},
   "outputs": [
    {
     "data": {
      "text/plain": [
       "2014-08-03 10:00:00+02:00        None\n",
       "2014-08-10 10:00:00+02:00        None\n",
       "2014-08-17 10:00:00+02:00    New York\n",
       "2014-08-24 10:00:00+02:00     Chicago\n",
       "2014-08-31 10:00:00+02:00     Toronto\n",
       "2014-09-07 10:00:00+02:00      Lisbon\n",
       "Freq: W-SUN, dtype: object"
      ]
     },
     "execution_count": 3,
     "metadata": {},
     "output_type": "execute_result"
    }
   ],
   "source": [
    "# shift by 2 periods \n",
    "sr.shift(periods = 2) "
   ]
  },
  {
   "cell_type": "markdown",
   "id": "b7e2655c-6720-40c7-9550-543ed348f214",
   "metadata": {},
   "source": [
    "As we can see in the output, the Series.shift() function has successfully shifted the data over the index. Notice the data corresponding to the last two indexes has been dropped."
   ]
  },
  {
   "cell_type": "markdown",
   "id": "5b507299-ed91-43b0-af3c-fad1bc4eb21a",
   "metadata": {},
   "source": [
    "[Context_Python_Scientific_Stack](./../../Context_Python_Scientific_Stack.md)"
   ]
  }
 ],
 "metadata": {
  "kernelspec": {
   "display_name": "Python [conda env:base] *",
   "language": "python",
   "name": "conda-base-py"
  },
  "language_info": {
   "codemirror_mode": {
    "name": "ipython",
    "version": 3
   },
   "file_extension": ".py",
   "mimetype": "text/x-python",
   "name": "python",
   "nbconvert_exporter": "python",
   "pygments_lexer": "ipython3",
   "version": "3.12.7"
  }
 },
 "nbformat": 4,
 "nbformat_minor": 5
}
