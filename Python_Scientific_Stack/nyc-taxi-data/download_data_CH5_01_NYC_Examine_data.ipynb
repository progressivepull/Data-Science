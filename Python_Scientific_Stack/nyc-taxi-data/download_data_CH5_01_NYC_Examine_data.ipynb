{
  "metadata": {
    "kernelspec": {
      "name": "python",
      "display_name": "Python (Pyodide)",
      "language": "python"
    },
    "language_info": {
      "codemirror_mode": {
        "name": "python",
        "version": 3
      },
      "file_extension": ".py",
      "mimetype": "text/x-python",
      "name": "python",
      "nbconvert_exporter": "python",
      "pygments_lexer": "ipython3",
      "version": "3.8"
    }
  },
  "nbformat_minor": 5,
  "nbformat": 4,
  "cells": [
    {
      "id": "36ab3b83-abcb-47ac-be2c-38bddbfe1dfe",
      "cell_type": "code",
      "source": "CH5/01 NYC Examine data\nmain > Ch05 > 05_01 > first_look.py\nmain > Ch05 > 05_01 > download_data.py",
      "metadata": {
        "trusted": true
      },
      "outputs": [],
      "execution_count": null
    },
    {
      "id": "5d542458-944d-44a6-93bf-25652f5ef48b",
      "cell_type": "markdown",
      "source": "## Code Overview\nThis Python script downloads 10% of the taxi trip data for January 2016 from the NYC Taxi and Limousine Commission's dataset and saves it to a file named `taxi.csv`. The script uses standard Python libraries, including `urllib.request` for downloading data, `time` for measuring download duration, and `pathlib` for file path manipulation.\n\n---",
      "metadata": {}
    },
    {
      "id": "d0d25cb2-69ab-44bc-9a98-8c9b9425cc57",
      "cell_type": "markdown",
      "source": "## Detailed Explanation\n\n### 1. Importing Required Libraries",
      "metadata": {}
    },
    {
      "id": "61037101-e1a4-48fb-a43d-7d05ee4c5a8e",
      "cell_type": "code",
      "source": "from urllib.request import urlopen\nfrom time import monotonic\nfrom pathlib import Path",
      "metadata": {
        "trusted": true
      },
      "outputs": [],
      "execution_count": 1
    },
    {
      "id": "680d7be7-a294-4a11-a078-52a4e4a59616",
      "cell_type": "markdown",
      "source": "- **`urllib.request.urlopen`**: Provides an interface for opening URLs and downloading data over the web.\n- **`time.monotonic`**: Returns the elapsed time in seconds since an unspecified starting point (monotonic clock).\n- **`pathlib.Path`**: Offers an object-oriented interface for handling file paths.\n\n---",
      "metadata": {}
    },
    {
      "id": "1826126e-7f7f-4fd0-b96c-d26af2fdf7af",
      "cell_type": "markdown",
      "source": "### 2. Setting Up File Paths and URL",
      "metadata": {}
    },
    {
      "id": "9c9f9d35-5667-4093-91c6-94ca65f682e1",
      "cell_type": "code",
      "source": "import sys\nimport os\n\n# Get the directory of the executable\ncurrent_dir = os.path.dirname(sys.executable)\nprint(\"Executable directory:\", current_dir)",
      "metadata": {
        "trusted": true
      },
      "outputs": [
        {
          "name": "stdout",
          "output_type": "stream",
          "text": "Executable directory: /home/pyodide\n"
        }
      ],
      "execution_count": 3
    },
    {
      "id": "41ba879f-0ae7-4171-9c53-623379dc156a",
      "cell_type": "code",
      "source": "# here = Path(__file__).absolute().parent\n# csv_file = here / 'taxi.csv'\ncsv_file = current_dir + '/taxi.csv'\nurl = 'https://s3.amazonaws.com/nyc-tlc/csv_backup/yellow_tripdata_2016-01.csv'\nout_name = '/'.join(csv_file.parts[-3:])",
      "metadata": {
        "trusted": true
      },
      "outputs": [
        {
          "ename": "<class 'AttributeError'>",
          "evalue": "'str' object has no attribute 'parts'",
          "traceback": [
            "\u001b[0;31m---------------------------------------------------------------------------\u001b[0m",
            "\u001b[0;31mAttributeError\u001b[0m                            Traceback (most recent call last)",
            "Cell \u001b[0;32mIn[6], line 5\u001b[0m\n\u001b[1;32m      3\u001b[0m csv_file \u001b[38;5;241m=\u001b[39m current_dir \u001b[38;5;241m+\u001b[39m \u001b[38;5;124m'\u001b[39m\u001b[38;5;124m/taxi.csv\u001b[39m\u001b[38;5;124m'\u001b[39m\n\u001b[1;32m      4\u001b[0m url \u001b[38;5;241m=\u001b[39m \u001b[38;5;124m'\u001b[39m\u001b[38;5;124mhttps://s3.amazonaws.com/nyc-tlc/csv_backup/yellow_tripdata_2016-01.csv\u001b[39m\u001b[38;5;124m'\u001b[39m\n\u001b[0;32m----> 5\u001b[0m out_name \u001b[38;5;241m=\u001b[39m \u001b[38;5;124m'\u001b[39m\u001b[38;5;124m/\u001b[39m\u001b[38;5;124m'\u001b[39m\u001b[38;5;241m.\u001b[39mjoin(\u001b[43mcsv_file\u001b[49m\u001b[38;5;241;43m.\u001b[39;49m\u001b[43mparts\u001b[49m[\u001b[38;5;241m-\u001b[39m\u001b[38;5;241m3\u001b[39m:])\n",
            "\u001b[0;31mAttributeError\u001b[0m: 'str' object has no attribute 'parts'"
          ],
          "output_type": "error"
        }
      ],
      "execution_count": 6
    },
    {
      "id": "80a67074-cc22-45cf-8060-d8606fa88832",
      "cell_type": "markdown",
      "source": "- **`here`**: Represents the directory containing the script (`__file__`).\n- **`csv_file`**: Specifies the full path where the downloaded file will be saved (`taxi.csv` in the script's directory).\n- **`url`**: The URL of the dataset being downloaded (January 2016 NYC taxi data).\n- **`out_name`**: Extracts the last three parts of the file path to create a relative path for display purposes.\n\n---",
      "metadata": {}
    },
    {
      "id": "32ee9497-e42a-4e5f-8818-f30fa38c694e",
      "cell_type": "code",
      "source": "",
      "metadata": {
        "trusted": true
      },
      "outputs": [],
      "execution_count": null
    }
  ]
}