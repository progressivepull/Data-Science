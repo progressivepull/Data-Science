{
  "metadata": {
    "kernelspec": {
      "name": "python",
      "display_name": "Python (Pyodide)",
      "language": "python"
    },
    "language_info": {
      "codemirror_mode": {
        "name": "python",
        "version": 3
      },
      "file_extension": ".py",
      "mimetype": "text/x-python",
      "name": "python",
      "nbconvert_exporter": "python",
      "pygments_lexer": "ipython3",
      "version": "3.8"
    }
  },
  "nbformat_minor": 5,
  "nbformat": 4,
  "cells": [
    {
      "id": "aaae6e15-4677-4464-a678-6093201dd579",
      "cell_type": "markdown",
      "source": "### CH4/01 Create an initial map\nmain > Ch04 > 04_01 > map.py",
      "metadata": {}
    },
    {
      "id": "d720a744-8dea-4cc5-8f11-5abb61fe1a8e",
      "cell_type": "markdown",
      "source": "## Code Overview\nThe provided code is a Python script that reads GPS tracking data from a CSV file, visualizes it using a map, and saves the resulting map as an HTML file. The main libraries used are `pandas` for data manipulation and `folium` for map visualization.",
      "metadata": {}
    },
    {
      "id": "0d757f47-fcb7-4de3-9aa0-a43c4ad3e3c8",
      "cell_type": "markdown",
      "source": "## Detailed Explanation",
      "metadata": {}
    },
    {
      "id": "d6fb7f30-f343-4160-a31d-f3cfe15cc01a",
      "cell_type": "markdown",
      "source": "### 1. Importing Required Libraries",
      "metadata": {}
    },
    {
      "id": "c4fb8cc7-33f6-486b-afe7-4c2dfa12c5bc",
      "cell_type": "code",
      "source": "import pandas as pd",
      "metadata": {
        "trusted": true
      },
      "outputs": [],
      "execution_count": 1
    },
    {
      "id": "ab93de75-f007-4e17-8324-1578c8eff693",
      "cell_type": "markdown",
      "source": "The `pandas` library is imported to handle and manipulate tabular data in the form of a DataFrame.",
      "metadata": {}
    },
    {
      "id": "f23406ad-0957-4291-a5e8-774f3eb362d2",
      "cell_type": "markdown",
      "source": "### 2. Reading the CSV File",
      "metadata": {}
    },
    {
      "id": "6f94dc6f-f6b4-4399-a5ca-7b20cdde6167",
      "cell_type": "code",
      "source": "df = pd.read_csv(\n    'track.csv',\n    parse_dates=['time'],\n    index_col='time',\n)\ndf.columns",
      "metadata": {
        "trusted": true
      },
      "outputs": [
        {
          "execution_count": 2,
          "output_type": "execute_result",
          "data": {
            "text/plain": "Index(['lat', 'lng', 'height'], dtype='object')"
          },
          "metadata": {}
        }
      ],
      "execution_count": 2
    },
    {
      "id": "83e60cb9-1fef-47e0-ab22-bbc9dacd4e09",
      "cell_type": "markdown",
      "source": "- **`pd.read_csv`**: Reads the data from a file named `track.csv`.\n- **`parse_dates=['time']`**: Converts the `time` column into a datetime format.\n- **`index_col='time'`**: Sets the `time` column as the index of the DataFrame.\n- **`df.columns`**: Displays the column names of the DataFrame.",
      "metadata": {}
    },
    {
      "id": "cc179abc-66f3-400d-bf5a-60673554635a",
      "cell_type": "markdown",
      "source": "### 3. Inspecting the Index",
      "metadata": {}
    },
    {
      "id": "7eb9a054-2282-44ae-86c4-c9c19f96136a",
      "cell_type": "code",
      "source": "df.index[:5]",
      "metadata": {
        "trusted": true
      },
      "outputs": [
        {
          "execution_count": 3,
          "output_type": "execute_result",
          "data": {
            "text/plain": "DatetimeIndex(['2015-08-20 03:48:07.235000', '2015-08-20 03:48:24.734000',\n               '2015-08-20 03:48:25.660000', '2015-08-20 03:48:26.819000',\n               '2015-08-20 03:48:27.828000'],\n              dtype='datetime64[ns]', name='time', freq=None)"
          },
          "metadata": {}
        }
      ],
      "execution_count": 3
    },
    {
      "id": "e0eb4e4a-502e-4acf-810e-8cfad85b3e11",
      "cell_type": "markdown",
      "source": "This line displays the first 5 entries of the index (which is the `time` column after being set as the index).",
      "metadata": {}
    },
    {
      "id": "53c67758-7a09-49b0-b4c0-45dc9c6f9cd0",
      "cell_type": "markdown",
      "source": "### 4. Importing the Folium Library",
      "metadata": {}
    },
    {
      "id": "b6433747-429e-40ac-a5a7-b7aa5470c22b",
      "cell_type": "code",
      "source": "import folium",
      "metadata": {
        "trusted": true
      },
      "outputs": [
        {
          "ename": "<class 'ModuleNotFoundError'>",
          "evalue": "No module named 'folium'",
          "traceback": [
            "\u001b[0;31m---------------------------------------------------------------------------\u001b[0m",
            "\u001b[0;31mModuleNotFoundError\u001b[0m                       Traceback (most recent call last)",
            "Cell \u001b[0;32mIn[4], line 1\u001b[0m\n\u001b[0;32m----> 1\u001b[0m \u001b[38;5;28;01mimport\u001b[39;00m \u001b[38;5;21;01mfolium\u001b[39;00m\n",
            "\u001b[0;31mModuleNotFoundError\u001b[0m: No module named 'folium'"
          ],
          "output_type": "error"
        }
      ],
      "execution_count": 4
    },
    {
      "id": "c3936476-739a-43da-b693-34eb2b296464",
      "cell_type": "markdown",
      "source": "The `folium` library is imported to create interactive maps.",
      "metadata": {}
    },
    {
      "id": "0ec35875-49bc-4a61-893f-d0b71b0510bc",
      "cell_type": "markdown",
      "source": "### 5. Creating a Map Centered on the Mean Latitude and Longitude",
      "metadata": {}
    },
    {
      "id": "a4861cfc-ad1d-4730-a7a7-729b864d17b7",
      "cell_type": "code",
      "source": "center = [df['lat'].mean(), df['lng'].mean()]\nm = folium.Map(\n    location=center,\n    zoom_start=15,\n)\nm",
      "metadata": {
        "trusted": true
      },
      "outputs": [
        {
          "ename": "<class 'NameError'>",
          "evalue": "name 'folium' is not defined",
          "traceback": [
            "\u001b[0;31m---------------------------------------------------------------------------\u001b[0m",
            "\u001b[0;31mNameError\u001b[0m                                 Traceback (most recent call last)",
            "Cell \u001b[0;32mIn[5], line 2\u001b[0m\n\u001b[1;32m      1\u001b[0m center \u001b[38;5;241m=\u001b[39m [df[\u001b[38;5;124m'\u001b[39m\u001b[38;5;124mlat\u001b[39m\u001b[38;5;124m'\u001b[39m]\u001b[38;5;241m.\u001b[39mmean(), df[\u001b[38;5;124m'\u001b[39m\u001b[38;5;124mlng\u001b[39m\u001b[38;5;124m'\u001b[39m]\u001b[38;5;241m.\u001b[39mmean()]\n\u001b[0;32m----> 2\u001b[0m m \u001b[38;5;241m=\u001b[39m \u001b[43mfolium\u001b[49m\u001b[38;5;241m.\u001b[39mMap(\n\u001b[1;32m      3\u001b[0m     location\u001b[38;5;241m=\u001b[39mcenter,\n\u001b[1;32m      4\u001b[0m     zoom_start\u001b[38;5;241m=\u001b[39m\u001b[38;5;241m15\u001b[39m,\n\u001b[1;32m      5\u001b[0m )\n\u001b[1;32m      6\u001b[0m m\n",
            "\u001b[0;31mNameError\u001b[0m: name 'folium' is not defined"
          ],
          "output_type": "error"
        }
      ],
      "execution_count": 5
    },
    {
      "id": "73fbde7e-dc46-42f8-a727-9e5d66693b5c",
      "cell_type": "markdown",
      "source": "- **`df['lat'].mean()` and `df['lng'].mean()`**: Calculate the average latitude and longitude from the DataFrame, which are used as the center point of the map.\n- **`folium.Map()`**: Creates a map object.\n  - `location=center`: Sets the center of the map to the calculated mean latitude and longitude.\n  - `zoom_start=15`: Specifies the initial zoom level of the map.\n\n---",
      "metadata": {}
    },
    {
      "id": "f10c579e-05fc-491b-8ba9-4ce0785e1c35",
      "cell_type": "markdown",
      "source": "### 6. Saving the Map as an HTML File",
      "metadata": {}
    },
    {
      "id": "bdf5c07f-7ddf-4b00-8d8b-1161d8a215f8",
      "cell_type": "code",
      "source": "m.save('track.html')",
      "metadata": {
        "trusted": true
      },
      "outputs": [
        {
          "ename": "<class 'NameError'>",
          "evalue": "name 'm' is not defined",
          "traceback": [
            "\u001b[0;31m---------------------------------------------------------------------------\u001b[0m",
            "\u001b[0;31mNameError\u001b[0m                                 Traceback (most recent call last)",
            "Cell \u001b[0;32mIn[6], line 1\u001b[0m\n\u001b[0;32m----> 1\u001b[0m \u001b[43mm\u001b[49m\u001b[38;5;241m.\u001b[39msave(\u001b[38;5;124m'\u001b[39m\u001b[38;5;124mtrack.html\u001b[39m\u001b[38;5;124m'\u001b[39m)\n",
            "\u001b[0;31mNameError\u001b[0m: name 'm' is not defined"
          ],
          "output_type": "error"
        }
      ],
      "execution_count": 6
    },
    {
      "id": "440cea00-03ed-4ac0-adf4-ed0ee2d8344c",
      "cell_type": "markdown",
      "source": "- **`m.save`**: Saves the generated map object `m` to an HTML file named `track.html`. This file can be opened in a web browser to view the interactive map.\n\n---",
      "metadata": {}
    },
    {
      "id": "a9e38a52-8c55-44f2-b3dc-b81bdc0be59a",
      "cell_type": "markdown",
      "source": "## Summary\n1. The script reads GPS tracking data from `track.csv`.\n2. It processes the data and calculates the center of the map using the mean latitude and longitude.\n3. It generates a map visualizing the data using the `folium` library.\n4. Finally, the map is saved as an HTML file for sharing or visualization purposes.",
      "metadata": {}
    },
    {
      "id": "f13cae7c-87ff-42d9-ab15-04add3c1b448",
      "cell_type": "markdown",
      "source": "[Context_Python_Scientific_Stack](./../../Context_Python_Scientific_Stack.md)",
      "metadata": {}
    }
  ]
}