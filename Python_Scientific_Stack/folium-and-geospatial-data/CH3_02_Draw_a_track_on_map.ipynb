{
 "cells": [
  {
   "cell_type": "code",
   "execution_count": null,
   "id": "d6fe5447-9cb8-413f-85e5-d4b6980ffbc3",
   "metadata": {},
   "outputs": [],
   "source": []
  }
 ],
 "metadata": {
  "kernelspec": {
   "display_name": "",
   "name": ""
  },
  "language_info": {
   "name": ""
  }
 },
 "nbformat": 4,
 "nbformat_minor": 5
}
