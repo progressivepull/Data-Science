{
 "cells": [
  {
   "cell_type": "markdown",
   "id": "aaae6e15-4677-4464-a678-6093201dd579",
   "metadata": {},
   "source": [
    "### CH4/01 Create an initial map\n",
    "main > Ch04 > 04_01 > map.py"
   ]
  },
  {
   "cell_type": "markdown",
   "id": "d720a744-8dea-4cc5-8f11-5abb61fe1a8e",
   "metadata": {},
   "source": [
    "## Code Overview\n",
    "The provided code is a Python script that reads GPS tracking data from a CSV file, visualizes it using a map, and saves the resulting map as an HTML file. The main libraries used are `pandas` for data manipulation and `folium` for map visualization."
   ]
  },
  {
   "cell_type": "markdown",
   "id": "0d757f47-fcb7-4de3-9aa0-a43c4ad3e3c8",
   "metadata": {},
   "source": [
    "## Detailed Explanation"
   ]
  },
  {
   "cell_type": "markdown",
   "id": "d6fb7f30-f343-4160-a31d-f3cfe15cc01a",
   "metadata": {},
   "source": [
    "### 1. Importing Required Libraries"
   ]
  },
  {
   "cell_type": "code",
   "execution_count": 29,
   "id": "c4fb8cc7-33f6-486b-afe7-4c2dfa12c5bc",
   "metadata": {},
   "outputs": [],
   "source": [
    "import pandas as pd"
   ]
  },
  {
   "cell_type": "markdown",
   "id": "ab93de75-f007-4e17-8324-1578c8eff693",
   "metadata": {},
   "source": [
    "The `pandas` library is imported to handle and manipulate tabular data in the form of a DataFrame."
   ]
  },
  {
   "cell_type": "markdown",
   "id": "f23406ad-0957-4291-a5e8-774f3eb362d2",
   "metadata": {},
   "source": [
    "### 2. Reading the CSV File"
   ]
  },
  {
   "cell_type": "code",
   "execution_count": 33,
   "id": "6f94dc6f-f6b4-4399-a5ca-7b20cdde6167",
   "metadata": {},
   "outputs": [
    {
     "data": {
      "text/plain": [
       "Index(['lat', 'lng', 'height'], dtype='object')"
      ]
     },
     "execution_count": 33,
     "metadata": {},
     "output_type": "execute_result"
    }
   ],
   "source": [
    "df = pd.read_csv(\n",
    "    'track.csv',\n",
    "    parse_dates=['time'],\n",
    "    index_col='time',\n",
    ")\n",
    "df.columns"
   ]
  },
  {
   "cell_type": "markdown",
   "id": "83e60cb9-1fef-47e0-ab22-bbc9dacd4e09",
   "metadata": {},
   "source": [
    "- **`pd.read_csv`**: Reads the data from a file named `track.csv`.\n",
    "- **`parse_dates=['time']`**: Converts the `time` column into a datetime format.\n",
    "- **`index_col='time'`**: Sets the `time` column as the index of the DataFrame.\n",
    "- **`df.columns`**: Displays the column names of the DataFrame."
   ]
  },
  {
   "cell_type": "markdown",
   "id": "cc179abc-66f3-400d-bf5a-60673554635a",
   "metadata": {},
   "source": [
    "### 3. Inspecting the Index"
   ]
  },
  {
   "cell_type": "code",
   "execution_count": 37,
   "id": "7eb9a054-2282-44ae-86c4-c9c19f96136a",
   "metadata": {},
   "outputs": [
    {
     "data": {
      "text/plain": [
       "DatetimeIndex(['2015-08-20 03:48:07.235000', '2015-08-20 03:48:24.734000',\n",
       "               '2015-08-20 03:48:25.660000', '2015-08-20 03:48:26.819000',\n",
       "               '2015-08-20 03:48:27.828000'],\n",
       "              dtype='datetime64[ns]', name='time', freq=None)"
      ]
     },
     "execution_count": 37,
     "metadata": {},
     "output_type": "execute_result"
    }
   ],
   "source": [
    "df.index[:5]"
   ]
  },
  {
   "cell_type": "markdown",
   "id": "e0eb4e4a-502e-4acf-810e-8cfad85b3e11",
   "metadata": {},
   "source": [
    "This line displays the first 5 entries of the index (which is the `time` column after being set as the index)."
   ]
  },
  {
   "cell_type": "markdown",
   "id": "53c67758-7a09-49b0-b4c0-45dc9c6f9cd0",
   "metadata": {},
   "source": [
    "### 4. Importing the Folium Library"
   ]
  },
  {
   "cell_type": "code",
   "execution_count": 41,
   "id": "b6433747-429e-40ac-a5a7-b7aa5470c22b",
   "metadata": {},
   "outputs": [],
   "source": [
    "import folium"
   ]
  },
  {
   "cell_type": "markdown",
   "id": "c3936476-739a-43da-b693-34eb2b296464",
   "metadata": {},
   "source": [
    "The `folium` library is imported to create interactive maps."
   ]
  },
  {
   "cell_type": "markdown",
   "id": "0ec35875-49bc-4a61-893f-d0b71b0510bc",
   "metadata": {},
   "source": [
    "### 5. Creating a Map Centered on the Mean Latitude and Longitude"
   ]
  },
  {
   "cell_type": "code",
   "execution_count": 45,
   "id": "a4861cfc-ad1d-4730-a7a7-729b864d17b7",
   "metadata": {},
   "outputs": [
    {
     "data": {
      "text/html": [
       "<div style=\"width:100%;\"><div style=\"position:relative;width:100%;height:0;padding-bottom:60%;\"><span style=\"color:#565656\">Make this Notebook Trusted to load map: File -> Trust Notebook</span><iframe srcdoc=\"&lt;!DOCTYPE html&gt;\n",
       "&lt;html&gt;\n",
       "&lt;head&gt;\n",
       "    \n",
       "    &lt;meta http-equiv=&quot;content-type&quot; content=&quot;text/html; charset=UTF-8&quot; /&gt;\n",
       "    \n",
       "        &lt;script&gt;\n",
       "            L_NO_TOUCH = false;\n",
       "            L_DISABLE_3D = false;\n",
       "        &lt;/script&gt;\n",
       "    \n",
       "    &lt;style&gt;html, body {width: 100%;height: 100%;margin: 0;padding: 0;}&lt;/style&gt;\n",
       "    &lt;style&gt;#map {position:absolute;top:0;bottom:0;right:0;left:0;}&lt;/style&gt;\n",
       "    &lt;script src=&quot;https://cdn.jsdelivr.net/npm/leaflet@1.9.3/dist/leaflet.js&quot;&gt;&lt;/script&gt;\n",
       "    &lt;script src=&quot;https://code.jquery.com/jquery-3.7.1.min.js&quot;&gt;&lt;/script&gt;\n",
       "    &lt;script src=&quot;https://cdn.jsdelivr.net/npm/bootstrap@5.2.2/dist/js/bootstrap.bundle.min.js&quot;&gt;&lt;/script&gt;\n",
       "    &lt;script src=&quot;https://cdnjs.cloudflare.com/ajax/libs/Leaflet.awesome-markers/2.0.2/leaflet.awesome-markers.js&quot;&gt;&lt;/script&gt;\n",
       "    &lt;link rel=&quot;stylesheet&quot; href=&quot;https://cdn.jsdelivr.net/npm/leaflet@1.9.3/dist/leaflet.css&quot;/&gt;\n",
       "    &lt;link rel=&quot;stylesheet&quot; href=&quot;https://cdn.jsdelivr.net/npm/bootstrap@5.2.2/dist/css/bootstrap.min.css&quot;/&gt;\n",
       "    &lt;link rel=&quot;stylesheet&quot; href=&quot;https://netdna.bootstrapcdn.com/bootstrap/3.0.0/css/bootstrap-glyphicons.css&quot;/&gt;\n",
       "    &lt;link rel=&quot;stylesheet&quot; href=&quot;https://cdn.jsdelivr.net/npm/@fortawesome/fontawesome-free@6.2.0/css/all.min.css&quot;/&gt;\n",
       "    &lt;link rel=&quot;stylesheet&quot; href=&quot;https://cdnjs.cloudflare.com/ajax/libs/Leaflet.awesome-markers/2.0.2/leaflet.awesome-markers.css&quot;/&gt;\n",
       "    &lt;link rel=&quot;stylesheet&quot; href=&quot;https://cdn.jsdelivr.net/gh/python-visualization/folium/folium/templates/leaflet.awesome.rotate.min.css&quot;/&gt;\n",
       "    \n",
       "            &lt;meta name=&quot;viewport&quot; content=&quot;width=device-width,\n",
       "                initial-scale=1.0, maximum-scale=1.0, user-scalable=no&quot; /&gt;\n",
       "            &lt;style&gt;\n",
       "                #map_71dee22380e38b40845bef3052cc6786 {\n",
       "                    position: relative;\n",
       "                    width: 100.0%;\n",
       "                    height: 100.0%;\n",
       "                    left: 0.0%;\n",
       "                    top: 0.0%;\n",
       "                }\n",
       "                .leaflet-container { font-size: 1rem; }\n",
       "            &lt;/style&gt;\n",
       "        \n",
       "&lt;/head&gt;\n",
       "&lt;body&gt;\n",
       "    \n",
       "    \n",
       "            &lt;div class=&quot;folium-map&quot; id=&quot;map_71dee22380e38b40845bef3052cc6786&quot; &gt;&lt;/div&gt;\n",
       "        \n",
       "&lt;/body&gt;\n",
       "&lt;script&gt;\n",
       "    \n",
       "    \n",
       "            var map_71dee22380e38b40845bef3052cc6786 = L.map(\n",
       "                &quot;map_71dee22380e38b40845bef3052cc6786&quot;,\n",
       "                {\n",
       "                    center: [32.512191093243246, 35.015832294594595],\n",
       "                    crs: L.CRS.EPSG3857,\n",
       "                    ...{\n",
       "  &quot;zoom&quot;: 15,\n",
       "  &quot;zoomControl&quot;: true,\n",
       "  &quot;preferCanvas&quot;: false,\n",
       "}\n",
       "\n",
       "                }\n",
       "            );\n",
       "\n",
       "            \n",
       "\n",
       "        \n",
       "    \n",
       "            var tile_layer_1e628355ef89b94f2ccfafc91f1d9213 = L.tileLayer(\n",
       "                &quot;https://tile.openstreetmap.org/{z}/{x}/{y}.png&quot;,\n",
       "                {\n",
       "  &quot;minZoom&quot;: 0,\n",
       "  &quot;maxZoom&quot;: 19,\n",
       "  &quot;maxNativeZoom&quot;: 19,\n",
       "  &quot;noWrap&quot;: false,\n",
       "  &quot;attribution&quot;: &quot;\\u0026copy; \\u003ca href=\\&quot;https://www.openstreetmap.org/copyright\\&quot;\\u003eOpenStreetMap\\u003c/a\\u003e contributors&quot;,\n",
       "  &quot;subdomains&quot;: &quot;abc&quot;,\n",
       "  &quot;detectRetina&quot;: false,\n",
       "  &quot;tms&quot;: false,\n",
       "  &quot;opacity&quot;: 1,\n",
       "}\n",
       "\n",
       "            );\n",
       "        \n",
       "    \n",
       "            tile_layer_1e628355ef89b94f2ccfafc91f1d9213.addTo(map_71dee22380e38b40845bef3052cc6786);\n",
       "        \n",
       "&lt;/script&gt;\n",
       "&lt;/html&gt;\" style=\"position:absolute;width:100%;height:100%;left:0;top:0;border:none !important;\" allowfullscreen webkitallowfullscreen mozallowfullscreen></iframe></div></div>"
      ],
      "text/plain": [
       "<folium.folium.Map at 0x1e94a5324e0>"
      ]
     },
     "execution_count": 45,
     "metadata": {},
     "output_type": "execute_result"
    }
   ],
   "source": [
    "center = [df['lat'].mean(), df['lng'].mean()]\n",
    "m = folium.Map(\n",
    "    location=center,\n",
    "    zoom_start=15,\n",
    ")\n",
    "m"
   ]
  },
  {
   "cell_type": "markdown",
   "id": "73fbde7e-dc46-42f8-a727-9e5d66693b5c",
   "metadata": {},
   "source": [
    "- **`df['lat'].mean()` and `df['lng'].mean()`**: Calculate the average latitude and longitude from the DataFrame, which are used as the center point of the map.\n",
    "- **`folium.Map()`**: Creates a map object.\n",
    "  - `location=center`: Sets the center of the map to the calculated mean latitude and longitude.\n",
    "  - `zoom_start=15`: Specifies the initial zoom level of the map.\n",
    "\n",
    "---"
   ]
  },
  {
   "cell_type": "markdown",
   "id": "f10c579e-05fc-491b-8ba9-4ce0785e1c35",
   "metadata": {},
   "source": [
    "### 6. Saving the Map as an HTML File"
   ]
  },
  {
   "cell_type": "code",
   "execution_count": 53,
   "id": "bdf5c07f-7ddf-4b00-8d8b-1161d8a215f8",
   "metadata": {},
   "outputs": [],
   "source": [
    "m.save('CH4_01_Create_an_initial_map.html')"
   ]
  },
  {
   "cell_type": "markdown",
   "id": "440cea00-03ed-4ac0-adf4-ed0ee2d8344c",
   "metadata": {},
   "source": [
    "- **`m.save`**: Saves the generated map object `m` to an HTML file named `CH4_01_Create_an_initial_map.html`. This file can be opened in a web browser to view the interactive map.\n",
    "\n",
    "---"
   ]
  },
  {
   "cell_type": "markdown",
   "id": "a9e38a52-8c55-44f2-b3dc-b81bdc0be59a",
   "metadata": {},
   "source": [
    "## Summary\n",
    "1. The script reads GPS tracking data from `track.csv`.\n",
    "2. It processes the data and calculates the center of the map using the mean latitude and longitude.\n",
    "3. It generates a map visualizing the data using the `folium` library.\n",
    "4. Finally, the map is saved as an HTML file for sharing or visualization purposes."
   ]
  },
  {
   "cell_type": "markdown",
   "id": "f13cae7c-87ff-42d9-ab15-04add3c1b448",
   "metadata": {},
   "source": [
    "[Context_Python_Scientific_Stack](./../../Context_Python_Scientific_Stack.md)"
   ]
  }
 ],
 "metadata": {
  "kernelspec": {
   "display_name": "Python [conda env:base] *",
   "language": "python",
   "name": "conda-base-py"
  },
  "language_info": {
   "codemirror_mode": {
    "name": "ipython",
    "version": 3
   },
   "file_extension": ".py",
   "mimetype": "text/x-python",
   "name": "python",
   "nbconvert_exporter": "python",
   "pygments_lexer": "ipython3",
   "version": "3.12.3"
  }
 },
 "nbformat": 4,
 "nbformat_minor": 5
}
