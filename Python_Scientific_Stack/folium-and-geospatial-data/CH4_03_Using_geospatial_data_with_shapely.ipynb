{
 "cells": [
  {
   "cell_type": "code",
   "execution_count": null,
   "id": "455c7f66-b635-4787-ac5a-c9fbd43dd17e",
   "metadata": {},
   "outputs": [],
   "source": []
  }
 ],
 "metadata": {
  "kernelspec": {
   "display_name": "",
   "name": ""
  },
  "language_info": {
   "name": ""
  }
 },
 "nbformat": 4,
 "nbformat_minor": 5
}
