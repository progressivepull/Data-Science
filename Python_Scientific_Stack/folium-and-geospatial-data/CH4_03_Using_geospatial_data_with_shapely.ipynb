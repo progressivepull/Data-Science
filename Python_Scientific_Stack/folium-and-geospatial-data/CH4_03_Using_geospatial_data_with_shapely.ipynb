{
 "cells": [
  {
   "cell_type": "markdown",
   "id": "dc78977c-13e4-4f1a-a64e-fe702b800d83",
   "metadata": {},
   "source": [
    "### CH4/03 Using geospatial data with shapely\n",
    "main > Ch04 > 04_03 > geo.py"
   ]
  },
  {
   "cell_type": "code",
   "execution_count": null,
   "id": "340dc645-0689-4a02-9701-135574184041",
   "metadata": {},
   "outputs": [],
   "source": []
  }
 ],
 "metadata": {
  "kernelspec": {
   "display_name": "Python [conda env:base] *",
   "language": "python",
   "name": "conda-base-py"
  },
  "language_info": {
   "codemirror_mode": {
    "name": "ipython",
    "version": 3
   },
   "file_extension": ".py",
   "mimetype": "text/x-python",
   "name": "python",
   "nbconvert_exporter": "python",
   "pygments_lexer": "ipython3",
   "version": "3.12.3"
  }
 },
 "nbformat": 4,
 "nbformat_minor": 5
}
