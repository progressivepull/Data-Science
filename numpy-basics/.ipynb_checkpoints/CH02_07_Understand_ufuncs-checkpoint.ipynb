{
  "metadata": {
    "kernelspec": {
      "name": "python",
      "display_name": "Python (Pyodide)",
      "language": "python"
    },
    "language_info": {
      "codemirror_mode": {
        "name": "python",
        "version": 3
      },
      "file_extension": ".py",
      "mimetype": "text/x-python",
      "name": "python",
      "nbconvert_exporter": "python",
      "pygments_lexer": "ipython3",
      "version": "3.8"
    }
  },
  "nbformat_minor": 4,
  "nbformat": 4,
  "cells": [
    {
      "cell_type": "code",
      "source": "import numpy as np",
      "metadata": {
        "trusted": true
      },
      "outputs": [],
      "execution_count": 1
    },
    {
      "cell_type": "markdown",
      "source": "There are many functions defined in Numpy. How many? Let's see will import Numpy and then look at how many elements the dir command return. And you're going to see 603. This might change depending on the Numpy version you have. We are not going to cover all of the 600 plus attributes, but this is start working in Numpy. You'll find the ones useful for you and commit them to memory. However, there's one aspect of Numpy functions I like to discuss.",
      "metadata": {}
    },
    {
      "cell_type": "code",
      "source": "len(dir(np))",
      "metadata": {
        "trusted": true
      },
      "outputs": [
        {
          "execution_count": 2,
          "output_type": "execute_result",
          "data": {
            "text/plain": "532"
          },
          "metadata": {}
        }
      ],
      "execution_count": 2
    },
    {
      "cell_type": "markdown",
      "source": "So if I'm doing the **sine of 90**, I'm going to return a number. Remember **sine gets its values as radiants and not degrees**. You might wonder why Numpy is defining a function that's already defined in the built in math model. ",
      "metadata": {}
    },
    {
      "cell_type": "code",
      "source": "np.sin(90)",
      "metadata": {
        "trusted": true
      },
      "outputs": [
        {
          "execution_count": 3,
          "output_type": "execute_result",
          "data": {
            "text/plain": "np.float64(0.8939966636005579)"
          },
          "metadata": {}
        }
      ],
      "execution_count": 3
    },
    {
      "cell_type": "markdown",
      "source": "The reason is that we can take create a **vector which is np.arange from -3 to 3 and run Numpy sine on that and it's going to work**. We're going to get the sine of every element in the array. The builtin math sine will not work. ",
      "metadata": {}
    },
    {
      "cell_type": "code",
      "source": "v = np.arange(-3, 3)\nnp.sin(v)",
      "metadata": {
        "trusted": true
      },
      "outputs": [
        {
          "execution_count": 4,
          "output_type": "execute_result",
          "data": {
            "text/plain": "array([-0.14112001, -0.90929743, -0.84147098,  0.        ,  0.84147098,\n        0.90929743])"
          },
          "metadata": {}
        }
      ],
      "execution_count": 4
    },
    {
      "cell_type": "markdown",
      "source": "A lot of Numpy functions are **U function or universal function**. It means they **work both on scalars regular numbers and arrays**. This is very handy and lets us work with the same function regardless of the input type. ",
      "metadata": {}
    },
    {
      "cell_type": "markdown",
      "source": "What happens if you like to write your own function? Do you need to check the type of the input every time? Well, you can, but Numpy provides an easier way. Let's have a look. So let's define our a ReLu which if **N is less than 0, return 0 otherwise return N** ",
      "metadata": {}
    },
    {
      "cell_type": "markdown",
      "source": "if you run it on a **scalar it is going to work**. However, if you try to run it on R vector, this is **going to raise an exception**. It will try to do if N smaller than 0, which is going to return a **Numpy array and the true value of a Numpy array is not defined**.",
      "metadata": {}
    },
    {
      "cell_type": "code",
      "source": "def relu(n):\n    if n < 0:\n        return 0.0\n    return n\n\nrelu(-2)",
      "metadata": {
        "trusted": true
      },
      "outputs": [
        {
          "execution_count": 5,
          "output_type": "execute_result",
          "data": {
            "text/plain": "0.0"
          },
          "metadata": {}
        }
      ],
      "execution_count": 5
    },
    {
      "cell_type": "code",
      "source": "relu(v)",
      "metadata": {
        "trusted": true
      },
      "outputs": [
        {
          "ename": "<class 'ValueError'>",
          "evalue": "The truth value of an array with more than one element is ambiguous. Use a.any() or a.all()",
          "traceback": [
            "\u001b[0;31m---------------------------------------------------------------------------\u001b[0m",
            "\u001b[0;31mValueError\u001b[0m                                Traceback (most recent call last)",
            "Cell \u001b[0;32mIn[6], line 1\u001b[0m\n\u001b[0;32m----> 1\u001b[0m \u001b[43mrelu\u001b[49m\u001b[43m(\u001b[49m\u001b[43mv\u001b[49m\u001b[43m)\u001b[49m\n",
            "Cell \u001b[0;32mIn[5], line 2\u001b[0m, in \u001b[0;36mrelu\u001b[0;34m(n)\u001b[0m\n\u001b[1;32m      1\u001b[0m \u001b[38;5;28;01mdef\u001b[39;00m \u001b[38;5;21mrelu\u001b[39m(n):\n\u001b[0;32m----> 2\u001b[0m     \u001b[38;5;28;01mif\u001b[39;00m n \u001b[38;5;241m<\u001b[39m \u001b[38;5;241m0\u001b[39m:\n\u001b[1;32m      3\u001b[0m         \u001b[38;5;28;01mreturn\u001b[39;00m \u001b[38;5;241m0.0\u001b[39m\n\u001b[1;32m      4\u001b[0m     \u001b[38;5;28;01mreturn\u001b[39;00m n\n",
            "\u001b[0;31mValueError\u001b[0m: The truth value of an array with more than one element is ambiguous. Use a.any() or a.all()"
          ],
          "output_type": "error"
        }
      ],
      "execution_count": 6
    },
    {
      "cell_type": "markdown",
      "source": "What you can do is use the np.vectorize the @ symbol at the beginning, meaning we're using the  **np.vectorize as a decorator**. If you're not familiar with decorators, we have several courses on the subject so the same function but now vectorized. ",
      "metadata": {}
    },
    {
      "cell_type": "code",
      "source": "@np.vectorize\ndef relu(n):\n    if n < 0:\n        return 0.0\n    return n\n\nrelu(v)",
      "metadata": {
        "trusted": true
      },
      "outputs": [
        {
          "execution_count": 7,
          "output_type": "execute_result",
          "data": {
            "text/plain": "array([0., 0., 0., 0., 1., 2.])"
          },
          "metadata": {}
        }
      ],
      "execution_count": 7
    },
    {
      "cell_type": "code",
      "source": "relu(-2)",
      "metadata": {
        "trusted": true
      },
      "outputs": [
        {
          "execution_count": 8,
          "output_type": "execute_result",
          "data": {
            "text/plain": "array(0.)"
          },
          "metadata": {}
        }
      ],
      "execution_count": 8
    },
    {
      "cell_type": "markdown",
      "source": "And now when we run it, we can run it on the vector, but we can also run it on the number. We see something that is not familiar. This is an array with one value. However, this array behaves just like a number so if I'm doing our **function on -2 and removing 7 from it, I'm going to get -7**.",
      "metadata": {}
    },
    {
      "cell_type": "code",
      "source": "relu(-2) - 7",
      "metadata": {
        "trusted": true
      },
      "outputs": [
        {
          "execution_count": 9,
          "output_type": "execute_result",
          "data": {
            "text/plain": "np.float64(-7.0)"
          },
          "metadata": {}
        }
      ],
      "execution_count": 9
    },
    {
      "cell_type": "markdown",
      "source": "Ufuncs are also NaN aware, which means that if they **see NaN, the special floating value, that means not a number, they will return NaN as well**. So we create an element with NaNs and we get the result with the NaN at that location.",
      "metadata": {}
    },
    {
      "cell_type": "code",
      "source": "nv = np.array([-1.0, np.nan, 1.0])\nnp.sin(nv)",
      "metadata": {
        "trusted": true
      },
      "outputs": [
        {
          "execution_count": 11,
          "output_type": "execute_result",
          "data": {
            "text/plain": "array([-0.84147098,         nan,  0.84147098])"
          },
          "metadata": {}
        }
      ],
      "execution_count": 11
    },
    {
      "cell_type": "markdown",
      "source": "<a href=\"https://github.com/browntruck246/Data-Science/blob/main/Data-Science-Foundations-Python/context.md\">Context</a>",
      "metadata": {}
    }
  ]
}